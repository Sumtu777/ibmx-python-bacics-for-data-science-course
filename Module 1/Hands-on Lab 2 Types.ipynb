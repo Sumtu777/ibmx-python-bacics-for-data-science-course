{
 "cells": [
  {
   "cell_type": "code",
   "execution_count": 2,
   "id": "eaaf4109-47d8-47c4-ad90-2cda065fc216",
   "metadata": {},
   "outputs": [
    {
     "data": {
      "text/plain": [
       "100"
      ]
     },
     "execution_count": 2,
     "metadata": {},
     "output_type": "execute_result"
    }
   ],
   "source": [
    "# integer\n",
    "100"
   ]
  },
  {
   "cell_type": "code",
   "execution_count": 1,
   "id": "e279be09-c609-4613-8797-0704c0642990",
   "metadata": {},
   "outputs": [
    {
     "data": {
      "text/plain": [
       "4.11"
      ]
     },
     "execution_count": 1,
     "metadata": {},
     "output_type": "execute_result"
    }
   ],
   "source": [
    "# float\n",
    "4.11"
   ]
  },
  {
   "cell_type": "code",
   "execution_count": 2,
   "id": "c8107595-6804-45d8-97cb-08b0513acd2e",
   "metadata": {},
   "outputs": [
    {
     "data": {
      "text/plain": [
       "'Hello, world'"
      ]
     },
     "execution_count": 2,
     "metadata": {},
     "output_type": "execute_result"
    }
   ],
   "source": [
    "# string\n",
    "\"Hello, world\""
   ]
  },
  {
   "cell_type": "markdown",
   "id": "5fb04338-f763-417f-a213-8bf9cdf2571c",
   "metadata": {},
   "source": [
    "Using Buit-in function type()"
   ]
  },
  {
   "cell_type": "code",
   "execution_count": 3,
   "id": "c7b9752f-017b-4e95-9318-91335c21bfcb",
   "metadata": {},
   "outputs": [
    {
     "data": {
      "text/plain": [
       "int"
      ]
     },
     "execution_count": 3,
     "metadata": {},
     "output_type": "execute_result"
    }
   ],
   "source": [
    "# type of 20\n",
    "type(20)"
   ]
  },
  {
   "cell_type": "code",
   "execution_count": 4,
   "id": "22f7365c-3403-40be-a3bf-d24ed6d13aae",
   "metadata": {},
   "outputs": [
    {
     "data": {
      "text/plain": [
       "float"
      ]
     },
     "execution_count": 4,
     "metadata": {},
     "output_type": "execute_result"
    }
   ],
   "source": [
    "# type of 5.55\n",
    "type(5.55)"
   ]
  },
  {
   "cell_type": "code",
   "execution_count": 5,
   "id": "e04f75f6-b30d-4b09-aa62-bc94fde0c786",
   "metadata": {},
   "outputs": [
    {
     "data": {
      "text/plain": [
       "str"
      ]
     },
     "execution_count": 5,
     "metadata": {},
     "output_type": "execute_result"
    }
   ],
   "source": [
    "# type of \"Hello world\"\n",
    "type(\"Hello world\")"
   ]
  },
  {
   "cell_type": "markdown",
   "id": "e4727d02-b52b-487f-9246-136f8429b1a0",
   "metadata": {},
   "source": [
    "## Intengers"
   ]
  },
  {
   "cell_type": "code",
   "execution_count": 6,
   "id": "574da1d0-841d-43ef-a186-9f84f3034ce9",
   "metadata": {},
   "outputs": [
    {
     "data": {
      "text/plain": [
       "int"
      ]
     },
     "execution_count": 6,
     "metadata": {},
     "output_type": "execute_result"
    }
   ],
   "source": [
    "# type of -49\n",
    "type(-40)"
   ]
  },
  {
   "cell_type": "code",
   "execution_count": 7,
   "id": "28d8119a-fd23-42bb-90c6-825dcb56a1c5",
   "metadata": {},
   "outputs": [
    {
     "data": {
      "text/plain": [
       "int"
      ]
     },
     "execution_count": 7,
     "metadata": {},
     "output_type": "execute_result"
    }
   ],
   "source": [
    "# types of 0\n",
    "type (0)"
   ]
  },
  {
   "cell_type": "markdown",
   "id": "cad865fc-0e8d-4612-9a10-00046bc87483",
   "metadata": {},
   "source": [
    "## Float"
   ]
  },
  {
   "cell_type": "code",
   "execution_count": 9,
   "id": "d7865dbf-9aae-4724-ac73-be33c74b11cf",
   "metadata": {},
   "outputs": [
    {
     "data": {
      "text/plain": [
       "float"
      ]
     },
     "execution_count": 9,
     "metadata": {},
     "output_type": "execute_result"
    }
   ],
   "source": [
    "# print type of 20.56\n",
    "type(20.56)"
   ]
  },
  {
   "cell_type": "code",
   "execution_count": 10,
   "id": "480ddf4e-5431-4ee5-87f2-78e475148c2c",
   "metadata": {},
   "outputs": [
    {
     "data": {
      "text/plain": [
       "float"
      ]
     },
     "execution_count": 10,
     "metadata": {},
     "output_type": "execute_result"
    }
   ],
   "source": [
    "# print type of 0.49\n",
    "type(0.49)"
   ]
  },
  {
   "cell_type": "markdown",
   "id": "58d55e36-d1cc-4463-ae53-feb84fcf7e1a",
   "metadata": {},
   "source": [
    "checking the system setting by <code>sys.float_info</code>"
   ]
  },
  {
   "cell_type": "code",
   "execution_count": 11,
   "id": "701643ff-9e93-4f47-a211-3856f8453418",
   "metadata": {},
   "outputs": [
    {
     "data": {
      "text/plain": [
       "sys.float_info(max=1.7976931348623157e+308, max_exp=1024, max_10_exp=308, min=2.2250738585072014e-308, min_exp=-1021, min_10_exp=-307, dig=15, mant_dig=53, epsilon=2.220446049250313e-16, radix=2, rounds=1)"
      ]
     },
     "execution_count": 11,
     "metadata": {},
     "output_type": "execute_result"
    }
   ],
   "source": [
    "import sys\n",
    "sys.float_info"
   ]
  },
  {
   "cell_type": "markdown",
   "id": "40546bfa-5e8b-48af-864d-c4f70d5ea871",
   "metadata": {},
   "source": [
    "## converting Types"
   ]
  },
  {
   "cell_type": "markdown",
   "id": "cf0162f8-0bd1-4bfe-99fc-229aee329d02",
   "metadata": {},
   "source": [
    "Int to Float"
   ]
  },
  {
   "cell_type": "code",
   "execution_count": 12,
   "id": "93ab48dc-1257-44ac-b320-87e1cb06c50e",
   "metadata": {},
   "outputs": [
    {
     "data": {
      "text/plain": [
       "int"
      ]
     },
     "execution_count": 12,
     "metadata": {},
     "output_type": "execute_result"
    }
   ],
   "source": [
    "# verify 33 is int\n",
    "type(33)"
   ]
  },
  {
   "cell_type": "code",
   "execution_count": 13,
   "id": "195c9f51-f8a2-4dfb-8a2e-59f3ee4f7aa1",
   "metadata": {},
   "outputs": [
    {
     "data": {
      "text/plain": [
       "33.0"
      ]
     },
     "execution_count": 13,
     "metadata": {},
     "output_type": "execute_result"
    }
   ],
   "source": [
    "#converting\n",
    "float(33)"
   ]
  },
  {
   "cell_type": "code",
   "execution_count": 14,
   "id": "68fa709a-07db-41ec-ba93-ceb0917376ee",
   "metadata": {},
   "outputs": [
    {
     "data": {
      "text/plain": [
       "float"
      ]
     },
     "execution_count": 14,
     "metadata": {},
     "output_type": "execute_result"
    }
   ],
   "source": [
    "# checking type after converting\n",
    "type(float(33))"
   ]
  },
  {
   "cell_type": "markdown",
   "id": "7349a25e-b87f-44d3-bc48-6b83ef203ac2",
   "metadata": {},
   "source": [
    "## Float to Int"
   ]
  },
  {
   "cell_type": "markdown",
   "id": "77825dd2-c422-4cba-8085-a37ee86399e6",
   "metadata": {},
   "source": [
    "When we convert an integer into a float, we don't really change the value (i.e., the significand) of the number. However, if we cast a float into an integer, we could potentially lose some information. For example, if we cast the float 1.1 to integer we will get 1 and lose the decimal information (i.e., 0.1):"
   ]
  },
  {
   "cell_type": "code",
   "execution_count": 15,
   "id": "fb9ba0e7-d2f9-4e7b-9007-03933127ef8c",
   "metadata": {},
   "outputs": [
    {
     "data": {
      "text/plain": [
       "2"
      ]
     },
     "execution_count": 15,
     "metadata": {},
     "output_type": "execute_result"
    }
   ],
   "source": [
    "# float 2.2 to int\n",
    "int(2.2) # lose info after the . (dot)"
   ]
  },
  {
   "cell_type": "markdown",
   "id": "92b009bf-bbc2-4e84-a610-c1485fb3ac2b",
   "metadata": {},
   "source": [
    "## String to integer or float"
   ]
  },
  {
   "cell_type": "code",
   "execution_count": 16,
   "id": "af57ec5a-c6a5-40fb-87cc-de935c577eec",
   "metadata": {},
   "outputs": [
    {
     "data": {
      "text/plain": [
       "1"
      ]
     },
     "execution_count": 16,
     "metadata": {},
     "output_type": "execute_result"
    }
   ],
   "source": [
    "# string to int\n",
    "int(\"1\")"
   ]
  },
  {
   "cell_type": "code",
   "execution_count": 17,
   "id": "1198b397-d486-44ac-89e7-5362ca4b3d40",
   "metadata": {},
   "outputs": [
    {
     "data": {
      "text/plain": [
       "5.0"
      ]
     },
     "execution_count": 17,
     "metadata": {},
     "output_type": "execute_result"
    }
   ],
   "source": [
    "# string to float\n",
    "float(\"5\")"
   ]
  },
  {
   "cell_type": "code",
   "execution_count": null,
   "id": "419c150f-b65b-42d6-a239-5e8219a33280",
   "metadata": {},
   "outputs": [],
   "source": [
    "# string to int with error\n",
    "int(\"1 men , \")"
   ]
  }
 ],
 "metadata": {
  "kernelspec": {
   "display_name": "Python 3 (ipykernel)",
   "language": "python",
   "name": "python3"
  },
  "language_info": {
   "codemirror_mode": {
    "name": "ipython",
    "version": 3
   },
   "file_extension": ".py",
   "mimetype": "text/x-python",
   "name": "python",
   "nbconvert_exporter": "python",
   "pygments_lexer": "ipython3",
   "version": "3.12.1"
  }
 },
 "nbformat": 4,
 "nbformat_minor": 5
}
