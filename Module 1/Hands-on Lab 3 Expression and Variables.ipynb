{
 "cells": [
  {
   "cell_type": "markdown",
   "id": "396069d5-4a98-4bbe-99a8-9d2533d32e3e",
   "metadata": {},
   "source": [
    "## Expressions"
   ]
  },
  {
   "cell_type": "code",
   "execution_count": 1,
   "id": "115d6906-0c1b-4819-91ba-9e73861bfe07",
   "metadata": {},
   "outputs": [
    {
     "data": {
      "text/plain": [
       "1620"
      ]
     },
     "execution_count": 1,
     "metadata": {},
     "output_type": "execute_result"
    }
   ],
   "source": [
    "# addition operation \n",
    "1200 + 20 + 400"
   ]
  },
  {
   "cell_type": "code",
   "execution_count": 2,
   "id": "a34b047c-9daa-4011-86ab-7bd629d1a61c",
   "metadata": {},
   "outputs": [
    {
     "data": {
      "text/plain": [
       "-20"
      ]
     },
     "execution_count": 2,
     "metadata": {},
     "output_type": "execute_result"
    }
   ],
   "source": [
    "# Substraction operation\n",
    "150 - 170"
   ]
  },
  {
   "cell_type": "code",
   "execution_count": 3,
   "id": "7fd592b0-4db9-4c34-a4e9-c76e601a19fc",
   "metadata": {},
   "outputs": [
    {
     "data": {
      "text/plain": [
       "130"
      ]
     },
     "execution_count": 3,
     "metadata": {},
     "output_type": "execute_result"
    }
   ],
   "source": [
    "# mutiplications operation\n",
    "26 * 5"
   ]
  },
  {
   "cell_type": "code",
   "execution_count": 4,
   "id": "8cbc4cee-b7f6-488a-ad61-939941941a16",
   "metadata": {},
   "outputs": [
    {
     "data": {
      "text/plain": [
       "5.0"
      ]
     },
     "execution_count": 4,
     "metadata": {},
     "output_type": "execute_result"
    }
   ],
   "source": [
    "# division operation\n",
    "25 / 5"
   ]
  },
  {
   "cell_type": "code",
   "execution_count": 5,
   "id": "e5b4a9a6-9580-4694-b0a1-2a9db97003ef",
   "metadata": {},
   "outputs": [
    {
     "data": {
      "text/plain": [
       "4.166666666666667"
      ]
     },
     "execution_count": 5,
     "metadata": {},
     "output_type": "execute_result"
    }
   ],
   "source": [
    "# division operation\n",
    "25 / 6"
   ]
  },
  {
   "cell_type": "code",
   "execution_count": 7,
   "id": "70f6358e-c097-4ac9-9a90-b111c82a0f7b",
   "metadata": {},
   "outputs": [
    {
     "data": {
      "text/plain": [
       "4"
      ]
     },
     "execution_count": 7,
     "metadata": {},
     "output_type": "execute_result"
    }
   ],
   "source": [
    "# int division operation\n",
    "25 // 6"
   ]
  },
  {
   "cell_type": "code",
   "execution_count": 8,
   "id": "c548bf71-a272-46d0-a5e1-9bf0393c5bd4",
   "metadata": {},
   "outputs": [
    {
     "data": {
      "text/plain": [
       "2"
      ]
     },
     "execution_count": 8,
     "metadata": {},
     "output_type": "execute_result"
    }
   ],
   "source": [
    "# int division operation\n",
    "157 // 77"
   ]
  },
  {
   "cell_type": "code",
   "execution_count": 10,
   "id": "c842fee2-dfae-4d9c-abc5-a18babc53b0d",
   "metadata": {},
   "outputs": [
    {
     "data": {
      "text/plain": [
       "1707"
      ]
     },
     "execution_count": 10,
     "metadata": {},
     "output_type": "execute_result"
    }
   ],
   "source": [
    "# mathemathical expression\n",
    "267 + 48 * 30"
   ]
  },
  {
   "cell_type": "code",
   "execution_count": 11,
   "id": "70d422bf-9ba0-42b2-9c7d-207f92b634b5",
   "metadata": {},
   "outputs": [
    {
     "data": {
      "text/plain": [
       "9750"
      ]
     },
     "execution_count": 11,
     "metadata": {},
     "output_type": "execute_result"
    }
   ],
   "source": [
    "# mathemathical expression\n",
    "(277 + 48) * 30"
   ]
  },
  {
   "cell_type": "markdown",
   "id": "0db94f4e-995a-4871-8129-42190e07308f",
   "metadata": {},
   "source": [
    "## Variables"
   ]
  },
  {
   "cell_type": "code",
   "execution_count": 13,
   "id": "a6acc8c2-d431-4ba2-98fb-97e0d1d0701f",
   "metadata": {},
   "outputs": [
    {
     "data": {
      "text/plain": [
       "119"
      ]
     },
     "execution_count": 13,
     "metadata": {},
     "output_type": "execute_result"
    }
   ],
   "source": [
    "# storing value into variable\n",
    "x = 20 + 49 + 50\n",
    "x"
   ]
  },
  {
   "cell_type": "code",
   "execution_count": 18,
   "id": "345b413b-3bf0-4039-bed8-97ae42e67539",
   "metadata": {},
   "outputs": [
    {
     "data": {
      "text/plain": [
       "39.666666666666664"
      ]
     },
     "execution_count": 18,
     "metadata": {},
     "output_type": "execute_result"
    }
   ],
   "source": [
    "# Use another variable to store the result of the operation between variable and value\n",
    "y = x / 3\n",
    "y"
   ]
  },
  {
   "cell_type": "code",
   "execution_count": 19,
   "id": "5b3e7cd7-c436-40c1-8d94-1b1492dc27da",
   "metadata": {},
   "outputs": [
    {
     "data": {
      "text/plain": [
       "357"
      ]
     },
     "execution_count": 19,
     "metadata": {},
     "output_type": "execute_result"
    }
   ],
   "source": [
    "# overwrite variable\n",
    "x = x * 3\n",
    "x"
   ]
  },
  {
   "cell_type": "code",
   "execution_count": 21,
   "id": "6bd5badb-5358-428b-ac11-5561f8cfda6e",
   "metadata": {},
   "outputs": [
    {
     "data": {
      "text/plain": [
       "142"
      ]
     },
     "execution_count": 21,
     "metadata": {},
     "output_type": "execute_result"
    }
   ],
   "source": [
    "# name variable meaningfully\n",
    "# sum up total minuits\n",
    "total_min = 23 + 59 + 60\n",
    "total_min"
   ]
  },
  {
   "cell_type": "code",
   "execution_count": 22,
   "id": "72324e2b-661e-4c46-9090-2a291f15b1b5",
   "metadata": {},
   "outputs": [
    {
     "data": {
      "text/plain": [
       "2.3666666666666667"
      ]
     },
     "execution_count": 22,
     "metadata": {},
     "output_type": "execute_result"
    }
   ],
   "source": [
    "# name variable meaningfully\n",
    "# make min to hour\n",
    "total_hr = total_min / 60\n",
    "total_hr"
   ]
  },
  {
   "cell_type": "code",
   "execution_count": 23,
   "id": "d67e6687-315d-4f5a-a0b9-6bfb372896d3",
   "metadata": {},
   "outputs": [
    {
     "data": {
      "text/plain": [
       "2.3666666666666667"
      ]
     },
     "execution_count": 23,
     "metadata": {},
     "output_type": "execute_result"
    }
   ],
   "source": [
    "# complicated Expression \n",
    "total_hours = (23 + 59+60)/60  \n",
    "total_hours"
   ]
  },
  {
   "cell_type": "code",
   "execution_count": null,
   "id": "0f6ce7fd-25da-4fcd-b20c-9f219027f67e",
   "metadata": {},
   "outputs": [],
   "source": []
  }
 ],
 "metadata": {
  "kernelspec": {
   "display_name": "Python 3 (ipykernel)",
   "language": "python",
   "name": "python3"
  },
  "language_info": {
   "codemirror_mode": {
    "name": "ipython",
    "version": 3
   },
   "file_extension": ".py",
   "mimetype": "text/x-python",
   "name": "python",
   "nbconvert_exporter": "python",
   "pygments_lexer": "ipython3",
   "version": "3.12.1"
  }
 },
 "nbformat": 4,
 "nbformat_minor": 5
}
