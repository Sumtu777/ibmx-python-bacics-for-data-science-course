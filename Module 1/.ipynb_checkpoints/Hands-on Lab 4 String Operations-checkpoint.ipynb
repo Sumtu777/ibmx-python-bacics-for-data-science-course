{
 "cells": [
  {
   "cell_type": "markdown",
   "id": "1f918816-3ef5-43c2-84e2-97027a826adb",
   "metadata": {},
   "source": [
    "## Strings"
   ]
  },
  {
   "cell_type": "code",
   "execution_count": 4,
   "id": "fb27996b-8e1c-4e93-9c29-cfd121630b59",
   "metadata": {},
   "outputs": [
    {
     "data": {
      "text/plain": [
       "'The BodyGuard'"
      ]
     },
     "execution_count": 4,
     "metadata": {},
     "output_type": "execute_result"
    }
   ],
   "source": [
    "# String\n",
    "\"The BodyGuard\""
   ]
  },
  {
   "cell_type": "code",
   "execution_count": 5,
   "id": "4df22116-8620-4ddb-aba0-4e9b87bbc34c",
   "metadata": {},
   "outputs": [
    {
     "data": {
      "text/plain": [
       "'The BodyGuard'"
      ]
     },
     "execution_count": 5,
     "metadata": {},
     "output_type": "execute_result"
    }
   ],
   "source": [
    "# singale Qoutatin string\n",
    "'The BodyGuard'"
   ]
  },
  {
   "cell_type": "code",
   "execution_count": 6,
   "id": "06c50dfd-6867-4595-8289-027d359a4727",
   "metadata": {},
   "outputs": [
    {
     "data": {
      "text/plain": [
       "'1 2 3 4 5 6 7 8 9 0'"
      ]
     },
     "execution_count": 6,
     "metadata": {},
     "output_type": "execute_result"
    }
   ],
   "source": [
    "# digits and space string\n",
    "\"1 2 3 4 5 6 7 8 9 0\""
   ]
  },
  {
   "cell_type": "code",
   "execution_count": 7,
   "id": "49fe33e2-d185-4922-87e4-81e40c207262",
   "metadata": {},
   "outputs": [
    {
     "data": {
      "text/plain": [
       "'! @ # $ % ^ ^ &'"
      ]
     },
     "execution_count": 7,
     "metadata": {},
     "output_type": "execute_result"
    }
   ],
   "source": [
    "# special character in string\n",
    "\"! @ # $ % ^ ^ &\""
   ]
  },
  {
   "cell_type": "code",
   "execution_count": 8,
   "id": "658ead07-8ee8-4973-9cb8-a8f9dd48349d",
   "metadata": {},
   "outputs": [
    {
     "name": "stdout",
     "output_type": "stream",
     "text": [
      "hello\n"
     ]
    }
   ],
   "source": [
    "# print the string\n",
    "print(\"hello\")"
   ]
  },
  {
   "cell_type": "code",
   "execution_count": 9,
   "id": "86eb4412-f178-4570-931f-2c3c696dc836",
   "metadata": {},
   "outputs": [
    {
     "data": {
      "text/plain": [
       "'The BodyGuard'"
      ]
     },
     "execution_count": 9,
     "metadata": {},
     "output_type": "execute_result"
    }
   ],
   "source": [
    "name = \"The BodyGuard\"\n",
    "name"
   ]
  },
  {
   "cell_type": "markdown",
   "id": "88f02d66-7613-451a-a76e-bd47aadd6b73",
   "metadata": {},
   "source": [
    "## Indexing"
   ]
  },
  {
   "cell_type": "code",
   "execution_count": 10,
   "id": "c0a74a01-a988-420d-94d6-77e0129677cf",
   "metadata": {},
   "outputs": [
    {
     "name": "stdout",
     "output_type": "stream",
     "text": [
      "T\n"
     ]
    }
   ],
   "source": [
    "# printing the first element on a string\n",
    "print(name[0])"
   ]
  },
  {
   "cell_type": "code",
   "execution_count": 11,
   "id": "adfd1218-5285-44ac-bd45-f11bfffcc105",
   "metadata": {},
   "outputs": [
    {
     "name": "stdout",
     "output_type": "stream",
     "text": [
      "y\n"
     ]
    }
   ],
   "source": [
    "# Print the element on index 7 in the string\n",
    "print(name[7])"
   ]
  },
  {
   "cell_type": "code",
   "execution_count": 12,
   "id": "36c77cec-ae15-4e3e-a159-c07cd38129c2",
   "metadata": {},
   "outputs": [
    {
     "name": "stdout",
     "output_type": "stream",
     "text": [
      "r\n"
     ]
    }
   ],
   "source": [
    "# Print the element on the 11th index in the string\n",
    "print(name[11])"
   ]
  },
  {
   "cell_type": "markdown",
   "id": "f402ec7c-a83d-45ea-9cb8-95a751868963",
   "metadata": {},
   "source": [
    "## Negative Indexing"
   ]
  },
  {
   "cell_type": "code",
   "execution_count": 13,
   "id": "ae547416-9049-4d94-85b8-11d5473289ed",
   "metadata": {},
   "outputs": [
    {
     "name": "stdout",
     "output_type": "stream",
     "text": [
      "d\n"
     ]
    }
   ],
   "source": [
    "# print the last element on the string\n",
    "# with negative index\n",
    "print(name[-1])"
   ]
  },
  {
   "cell_type": "code",
   "execution_count": 14,
   "id": "a34b0094-69a7-4401-a224-69a199097729",
   "metadata": {},
   "outputs": [
    {
     "name": "stdout",
     "output_type": "stream",
     "text": [
      "T\n"
     ]
    }
   ],
   "source": [
    "# print the first element on the srting\n",
    "# with negative index\n",
    "print(name[-13])"
   ]
  },
  {
   "cell_type": "code",
   "execution_count": 15,
   "id": "9e2afc40-e13d-472f-a59d-81636f5b2c9f",
   "metadata": {},
   "outputs": [
    {
     "data": {
      "text/plain": [
       "13"
      ]
     },
     "execution_count": 15,
     "metadata": {},
     "output_type": "execute_result"
    }
   ],
   "source": [
    "# cheking the lenth of string\n",
    "len(name)"
   ]
  },
  {
   "cell_type": "code",
   "execution_count": null,
   "id": "8c0eb1f1-1135-4865-b88e-b4fe6093d46b",
   "metadata": {},
   "outputs": [],
   "source": []
  },
  {
   "cell_type": "markdown",
   "id": "6f254621-c497-4995-87be-31b4ef398d9c",
   "metadata": {},
   "source": [
    "## Slicing"
   ]
  },
  {
   "cell_type": "code",
   "execution_count": 16,
   "id": "543bdebd-d7c8-4f46-b29f-9ddf320eae9f",
   "metadata": {},
   "outputs": [
    {
     "data": {
      "text/plain": [
       "'The '"
      ]
     },
     "execution_count": 16,
     "metadata": {},
     "output_type": "execute_result"
    }
   ],
   "source": [
    "# taking a slice from name variable index 0 to index 3\n",
    "name[0:4]"
   ]
  },
  {
   "cell_type": "code",
   "execution_count": 17,
   "id": "bc3732c4-f71e-4d6d-a0df-bb02aab95390",
   "metadata": {},
   "outputs": [
    {
     "data": {
      "text/plain": [
       "'Guar'"
      ]
     },
     "execution_count": 17,
     "metadata": {},
     "output_type": "execute_result"
    }
   ],
   "source": [
    "# taking a slice from name variable index 8 to index 11\n",
    "name[8:12]"
   ]
  },
  {
   "cell_type": "markdown",
   "id": "fcf8fbc1-058e-46ab-975f-08ba8524bb93",
   "metadata": {},
   "source": [
    "## STRIDE"
   ]
  },
  {
   "cell_type": "code",
   "execution_count": 18,
   "id": "78eec6cd-841c-4afe-9382-199ec3ab9c2a",
   "metadata": {},
   "outputs": [
    {
     "data": {
      "text/plain": [
       "'TeBdGad'"
      ]
     },
     "execution_count": 18,
     "metadata": {},
     "output_type": "execute_result"
    }
   ],
   "source": [
    "# Get every second element \n",
    "# starting with index 0\n",
    "# eliment on index 0,2,4.....\n",
    "name[::2]"
   ]
  },
  {
   "cell_type": "code",
   "execution_count": 19,
   "id": "a35d05db-344f-4ba1-90f3-b7326f0b410a",
   "metadata": {},
   "outputs": [
    {
     "data": {
      "text/plain": [
       "'TeB'"
      ]
     },
     "execution_count": 19,
     "metadata": {},
     "output_type": "execute_result"
    }
   ],
   "source": [
    "# Get every second string\n",
    "# range is 0 to 4\n",
    "name[0:5:2]"
   ]
  },
  {
   "cell_type": "markdown",
   "id": "19309af7-0464-45ac-b344-5719d06c8832",
   "metadata": {},
   "source": [
    "## Concatenate Strings"
   ]
  },
  {
   "cell_type": "code",
   "execution_count": 20,
   "id": "322cfdc4-fdfb-4191-93ae-254414ea3b24",
   "metadata": {},
   "outputs": [
    {
     "data": {
      "text/plain": [
       "'The BodyGuard is the best album'"
      ]
     },
     "execution_count": 20,
     "metadata": {},
     "output_type": "execute_result"
    }
   ],
   "source": [
    "# combine two string\n",
    "statement = name + \" is the best album\"\n",
    "statement"
   ]
  },
  {
   "cell_type": "code",
   "execution_count": 21,
   "id": "b7023226-0404-4f1d-8baf-bc1cda3b1f24",
   "metadata": {},
   "outputs": [
    {
     "data": {
      "text/plain": [
       "'The BodyGuardThe BodyGuardThe BodyGuardThe BodyGuardThe BodyGuard'"
      ]
     },
     "execution_count": 21,
     "metadata": {},
     "output_type": "execute_result"
    }
   ],
   "source": [
    "# print the string 5 times\n",
    "5 * name"
   ]
  },
  {
   "cell_type": "code",
   "execution_count": 29,
   "id": "d275073d-7c4b-4c5b-9526-8f50fcffdde6",
   "metadata": {},
   "outputs": [
    {
     "data": {
      "text/plain": [
       "'The BodyGuard is the best album. is the best album. is the best album. is the best album.'"
      ]
     },
     "execution_count": 29,
     "metadata": {},
     "output_type": "execute_result"
    }
   ],
   "source": [
    "# changing the existing string\n",
    "name = name + \" is the best album.\"\n",
    "name"
   ]
  },
  {
   "cell_type": "markdown",
   "id": "a93cce4d-5aeb-4136-97bf-0e83a68c4873",
   "metadata": {},
   "source": [
    "## Escape sequences"
   ]
  },
  {
   "cell_type": "code",
   "execution_count": 33,
   "id": "f38c83af-b38b-40c9-98c9-2bb39a1645b1",
   "metadata": {},
   "outputs": [
    {
     "name": "stdout",
     "output_type": "stream",
     "text": [
      " The Boduguard\n",
      " is the best album.\n"
     ]
    }
   ],
   "source": [
    "# New line with escape sequences\n",
    "print(\" The Boduguard\\n is the best album.\")"
   ]
  },
  {
   "cell_type": "code",
   "execution_count": 35,
   "id": "ad5f7454-1334-4d8a-9989-173b0d58c1b8",
   "metadata": {},
   "outputs": [
    {
     "name": "stdout",
     "output_type": "stream",
     "text": [
      "The Boduguard\t is the best album.\n"
     ]
    }
   ],
   "source": [
    "# tab sequences\n",
    "print(\"The Boduguard\\t is the best album.\")"
   ]
  },
  {
   "cell_type": "code",
   "execution_count": 37,
   "id": "92d84efc-c1ba-48c0-9381-90d82e0609d0",
   "metadata": {},
   "outputs": [
    {
     "name": "stdout",
     "output_type": "stream",
     "text": [
      "The Boduguard \\ is the best album.\n"
     ]
    }
   ],
   "source": [
    "# include back slash in string\n",
    "print(\"The Boduguard \\\\ is the best album.\")"
   ]
  },
  {
   "cell_type": "code",
   "execution_count": 38,
   "id": "ed0f76ad-f82a-4a63-ab09-617af01e35e4",
   "metadata": {},
   "outputs": [
    {
     "name": "stdout",
     "output_type": "stream",
     "text": [
      "The Boduguard \\\\ is the best album.\n"
     ]
    }
   ],
   "source": [
    "# r will tell python that string will be display as raw string\n",
    "print(r\"The Boduguard \\\\ is the best album.\")"
   ]
  },
  {
   "cell_type": "markdown",
   "id": "b7a2065c-601d-4faa-b6a1-c5786a9b5930",
   "metadata": {},
   "source": [
    "## String Manipulation Operations"
   ]
  },
  {
   "cell_type": "code",
   "execution_count": 45,
   "id": "23559d2f-1091-4bc1-aac3-c4993129e969",
   "metadata": {},
   "outputs": [
    {
     "name": "stdout",
     "output_type": "stream",
     "text": [
      "Before upper: Thriller is the sixth studio album\n",
      "After upper: THRILLER IS THE SIXTH STUDIO ALBUM\n"
     ]
    }
   ],
   "source": [
    "# Convert all charecter on string to Upper\n",
    "a = \"Thriller is the sixth studio album\"\n",
    "print(\"Before upper:\", a)\n",
    "b = a.upper()\n",
    "print(\"After upper:\", b)"
   ]
  },
  {
   "cell_type": "code",
   "execution_count": 47,
   "id": "46588795-4829-44ef-b7c0-8e95d3e9d06f",
   "metadata": {},
   "outputs": [
    {
     "data": {
      "text/plain": [
       "'The janet is the best album'"
      ]
     },
     "execution_count": 47,
     "metadata": {},
     "output_type": "execute_result"
    }
   ],
   "source": [
    "# replace old string with new substring\n",
    "a = \"The BodyGuard is the best album\"\n",
    "b = a.replace('BodyGuard', 'janet')\n",
    "b"
   ]
  },
  {
   "cell_type": "code",
   "execution_count": 1,
   "id": "9e13c94e-45ae-4679-8554-bddd5e315060",
   "metadata": {},
   "outputs": [
    {
     "data": {
      "text/plain": [
       "1"
      ]
     },
     "execution_count": 1,
     "metadata": {},
     "output_type": "execute_result"
    }
   ],
   "source": [
    "# find the substring in a string\n",
    "name = \"The BodyGuard\"\n",
    "name.find('he')"
   ]
  },
  {
   "cell_type": "code",
   "execution_count": 4,
   "id": "ce5c3f9b-1c92-4a29-b99b-80426d0df038",
   "metadata": {},
   "outputs": [
    {
     "data": {
      "text/plain": [
       "8"
      ]
     },
     "execution_count": 4,
     "metadata": {},
     "output_type": "execute_result"
    }
   ],
   "source": [
    "# find the substring in a string\n",
    "name = \"The BodyGuard\"\n",
    "name.find('Guard')"
   ]
  },
  {
   "cell_type": "code",
   "execution_count": 5,
   "id": "1f8dbe7a-db08-489e-97da-e44a2523fdbe",
   "metadata": {},
   "outputs": [
    {
     "data": {
      "text/plain": [
       "-1"
      ]
     },
     "execution_count": 5,
     "metadata": {},
     "output_type": "execute_result"
    }
   ],
   "source": [
    "# if can not find the substring in a string\n",
    "name = \"The BodyGuard\"\n",
    "name.find('jkhsfgdw')"
   ]
  },
  {
   "cell_type": "code",
   "execution_count": null,
   "id": "e34e9938-f7c2-4340-9484-76aab9eaaf11",
   "metadata": {},
   "outputs": [],
   "source": []
  }
 ],
 "metadata": {
  "kernelspec": {
   "display_name": "Python 3 (ipykernel)",
   "language": "python",
   "name": "python3"
  },
  "language_info": {
   "codemirror_mode": {
    "name": "ipython",
    "version": 3
   },
   "file_extension": ".py",
   "mimetype": "text/x-python",
   "name": "python",
   "nbconvert_exporter": "python",
   "pygments_lexer": "ipython3",
   "version": "3.12.1"
  }
 },
 "nbformat": 4,
 "nbformat_minor": 5
}
