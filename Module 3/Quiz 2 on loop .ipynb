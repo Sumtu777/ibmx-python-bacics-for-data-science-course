{
  "nbformat": 4,
  "nbformat_minor": 0,
  "metadata": {
    "colab": {
      "provenance": [],
      "authorship_tag": "ABX9TyP424B40Etv2Gm56OS1Dpgb"
    },
    "kernelspec": {
      "name": "python3",
      "display_name": "Python 3"
    },
    "language_info": {
      "name": "python"
    }
  },
  "cells": [
    {
      "cell_type": "markdown",
      "source": [
        "#  Quiz on Loops\n"
      ],
      "metadata": {
        "id": "0olbxmDihyK3"
      }
    },
    {
      "cell_type": "markdown",
      "source": [
        "Write a <code>for</code> loop that prints out all the elements between <b>-5</b> and <b>5</b> using the range function."
      ],
      "metadata": {
        "id": "BmE3oQnee3Q2"
      }
    },
    {
      "cell_type": "code",
      "source": [
        "# Use for loop to print range of number\n",
        "\n",
        "for i in range(-5, 6):\n",
        "  print(i)"
      ],
      "metadata": {
        "id": "fX5fxl_kiBDc",
        "colab": {
          "base_uri": "https://localhost:8080/"
        },
        "outputId": "61ca61bb-a5f9-48f4-e793-f38a0ac60121"
      },
      "execution_count": 2,
      "outputs": [
        {
          "output_type": "stream",
          "name": "stdout",
          "text": [
            "-5\n",
            "-4\n",
            "-3\n",
            "-2\n",
            "-1\n",
            "0\n",
            "1\n",
            "2\n",
            "3\n",
            "4\n",
            "5\n"
          ]
        }
      ]
    },
    {
      "cell_type": "markdown",
      "source": [
        "Print the elements of the following list: <code>Genres=\\[ 'rock', 'R\\&B', 'Soundtrack', 'R\\&B', 'soul', 'pop']</code>.\n",
        "Make sure you follow Python conventions."
      ],
      "metadata": {
        "id": "oojNqwGzfTYU"
      }
    },
    {
      "cell_type": "code",
      "source": [
        "# print element on the list\n",
        "# Use for loop\n",
        "\n",
        "Genres = ['rock', 'R&B', 'Soundtrack', 'R&B', 'soul', 'pop']\n",
        "\n",
        "for i in Genres:\n",
        "  print(i)"
      ],
      "metadata": {
        "colab": {
          "base_uri": "https://localhost:8080/"
        },
        "id": "CrfUQq4hfMJL",
        "outputId": "002c6681-5785-4abb-996c-581da2e1904b"
      },
      "execution_count": 9,
      "outputs": [
        {
          "output_type": "stream",
          "name": "stdout",
          "text": [
            "rock\n",
            "R&B\n",
            "Soundtrack\n",
            "R&B\n",
            "soul\n",
            "pop\n"
          ]
        }
      ]
    },
    {
      "cell_type": "markdown",
      "source": [
        "Write a for loop that prints out the following list: <code>squares=\\['red', 'yellow', 'green', 'purple', 'blue']</code>"
      ],
      "metadata": {
        "id": "iOOKx1BChXzm"
      }
    },
    {
      "cell_type": "code",
      "source": [
        "# print element on the list using for loop\n",
        "\n",
        "squares = ['red', 'yellow', 'green', 'purple', 'blue']\n",
        "\n",
        "for square in squares:\n",
        "  print(square)"
      ],
      "metadata": {
        "colab": {
          "base_uri": "https://localhost:8080/"
        },
        "id": "jpesLsaWgMXA",
        "outputId": "7a49c382-170c-4ccd-ca08-9d4145365a6b"
      },
      "execution_count": 8,
      "outputs": [
        {
          "output_type": "stream",
          "name": "stdout",
          "text": [
            "red\n",
            "yellow\n",
            "green\n",
            "purple\n",
            "blue\n"
          ]
        }
      ]
    },
    {
      "cell_type": "markdown",
      "source": [
        "Write a while loop to display the values of the Rating of an album playlist stored in the<code>PlayListRatings</code> list. If the score is less than 6, exit the loop. The list <code>PlayListRatings</code> is given by: <code>PlayListRatings = \\[10, 9.5, 10, 8, 7.5, 5, 10, 10]</code>\n"
      ],
      "metadata": {
        "id": "Qzo86bsxiaWJ"
      }
    },
    {
      "cell_type": "code",
      "source": [
        "# Use while loop to print rating\n",
        "\n",
        "PlayListRating = [10, 9.5, 10, 8, 7.5, 5, 10, 10]\n",
        "\n",
        "counter = 0\n",
        "rating = PlayListRating[0]\n",
        "\n",
        "while counter < (len(PlayListRating) - 1) and rating >= 6:\n",
        "  print(rating)\n",
        "  counter += 1\n",
        "  rating = PlayListRating[counter]"
      ],
      "metadata": {
        "colab": {
          "base_uri": "https://localhost:8080/"
        },
        "id": "Kt9gZl1QiHtV",
        "outputId": "e300aec3-8818-4ce7-8a2b-67370ecd650f"
      },
      "execution_count": 27,
      "outputs": [
        {
          "output_type": "stream",
          "name": "stdout",
          "text": [
            "10\n",
            "9.5\n",
            "10\n",
            "8\n",
            "7.5\n"
          ]
        }
      ]
    },
    {
      "cell_type": "markdown",
      "source": [
        "Write a while loop to copy the strings <code>'orange'</code> of the list <code>squares</code> to the list <code>new_squares</code>. Stop and exit the loop if the value on the list is not <code>'orange'</code>:\n"
      ],
      "metadata": {
        "id": "U3WzvgHToWIS"
      }
    },
    {
      "cell_type": "code",
      "source": [
        "#import\n",
        "import re\n",
        "# Change all specific element 'orange' to 'white'\n",
        "\n",
        "squares = ['orange', 'orange', 'purple', 'blue ', 'orange']\n",
        "new_squares = []\n",
        "\n",
        "counter = 0\n",
        "\n",
        "while counter < (len(squares) -1) and squares[counter] == 'orange':\n",
        "  new_squares.append(squares[counter])\n",
        "  counter += 1\n",
        "\n",
        "print(new_squares)"
      ],
      "metadata": {
        "colab": {
          "base_uri": "https://localhost:8080/"
        },
        "id": "yObe65-5jaHO",
        "outputId": "bd17e65e-71ed-4e65-c037-e5a2cbb5acd8"
      },
      "execution_count": 74,
      "outputs": [
        {
          "output_type": "stream",
          "name": "stdout",
          "text": [
            "['orange', 'orange']\n"
          ]
        }
      ]
    },
    {
      "cell_type": "code",
      "source": [],
      "metadata": {
        "id": "Pq40Ae2kqIi_"
      },
      "execution_count": 69,
      "outputs": []
    }
  ]
}