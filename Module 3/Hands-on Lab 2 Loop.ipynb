{
  "nbformat": 4,
  "nbformat_minor": 0,
  "metadata": {
    "colab": {
      "provenance": [],
      "authorship_tag": "ABX9TyP7EFPzmuPvnvJxMqh24DQX"
    },
    "kernelspec": {
      "name": "python3",
      "display_name": "Python 3"
    },
    "language_info": {
      "name": "python"
    }
  },
  "cells": [
    {
      "cell_type": "markdown",
      "source": [
        "# Loops in Python"
      ],
      "metadata": {
        "id": "t7kfQBdSlEeO"
      }
    },
    {
      "cell_type": "code",
      "execution_count": 1,
      "metadata": {
        "colab": {
          "base_uri": "https://localhost:8080/"
        },
        "id": "h70pVdPPkNz7",
        "outputId": "d1b94f14-ddcd-414b-9c45-544bfe51160b"
      },
      "outputs": [
        {
          "output_type": "execute_result",
          "data": {
            "text/plain": [
              "range(0, 3)"
            ]
          },
          "metadata": {},
          "execution_count": 1
        }
      ],
      "source": [
        "# use the range\n",
        "\n",
        "range(3)"
      ]
    },
    {
      "cell_type": "markdown",
      "source": [
        "## for Loop"
      ],
      "metadata": {
        "id": "GwmLcwNolqKN"
      }
    },
    {
      "cell_type": "code",
      "source": [
        "# for loop example\n",
        "\n",
        "dates = [1984, 1985, 1988, 1984]\n",
        "N = len(dates)\n",
        "\n",
        "for i in range(N):\n",
        "  print(dates[i])"
      ],
      "metadata": {
        "colab": {
          "base_uri": "https://localhost:8080/"
        },
        "id": "X5ulcXI3mG55",
        "outputId": "96c2eec0-2033-451a-f725-0741d71749bb"
      },
      "execution_count": 3,
      "outputs": [
        {
          "output_type": "stream",
          "name": "stdout",
          "text": [
            "1984\n",
            "1985\n",
            "1988\n",
            "1984\n"
          ]
        }
      ]
    },
    {
      "cell_type": "code",
      "source": [
        "# example of for loop\n",
        "\n",
        "for i in range(0, 8):\n",
        "  print(i)"
      ],
      "metadata": {
        "colab": {
          "base_uri": "https://localhost:8080/"
        },
        "id": "QjIhmNzinBaM",
        "outputId": "d4a81e69-88ac-426a-f69a-a70dbefbafae"
      },
      "execution_count": 4,
      "outputs": [
        {
          "output_type": "stream",
          "name": "stdout",
          "text": [
            "0\n",
            "1\n",
            "2\n",
            "3\n",
            "4\n",
            "5\n",
            "6\n",
            "7\n"
          ]
        }
      ]
    },
    {
      "cell_type": "code",
      "source": [
        "# example of for loop, loop through list\n",
        "\n",
        "for year in dates:\n",
        "  print(year)"
      ],
      "metadata": {
        "colab": {
          "base_uri": "https://localhost:8080/"
        },
        "id": "YU3cowAknw5T",
        "outputId": "b6769c27-4aa9-4fc5-f200-53e07a615032"
      },
      "execution_count": 5,
      "outputs": [
        {
          "output_type": "stream",
          "name": "stdout",
          "text": [
            "1984\n",
            "1985\n",
            "1988\n",
            "1984\n"
          ]
        }
      ]
    },
    {
      "cell_type": "code",
      "source": [
        " # Use the loop to change the element in list\n",
        "\n",
        "squares = [\"red\", \"yello\", 'green', 'purple', 'blue']\n",
        "\n",
        "for i in range(5):\n",
        "  print(\"Before squares \", i, 'is', squares[i])\n",
        "  squares[i] = 'white'\n",
        "  print(\"After squares \", i , 'is', squares[i])"
      ],
      "metadata": {
        "colab": {
          "base_uri": "https://localhost:8080/"
        },
        "id": "o6iTtFvFoa5m",
        "outputId": "ad699f42-dce5-4cca-d9e1-e9f2731946a4"
      },
      "execution_count": 14,
      "outputs": [
        {
          "output_type": "stream",
          "name": "stdout",
          "text": [
            "Before squares  0 is red\n",
            "After squares  0 is white\n",
            "Before squares  1 is yello\n",
            "After squares  1 is white\n",
            "Before squares  2 is green\n",
            "After squares  2 is white\n",
            "Before squares  3 is purple\n",
            "After squares  3 is white\n",
            "Before squares  4 is blue\n",
            "After squares  4 is white\n"
          ]
        }
      ]
    },
    {
      "cell_type": "code",
      "source": [
        "# loop through the list and interate on both index andelement value\n",
        "\n",
        "squares = [\"red\", \"yello\", 'green', 'purple', 'blue']\n",
        "\n",
        "for i, squire in enumerate(squares):\n",
        "  print(i, squire)"
      ],
      "metadata": {
        "colab": {
          "base_uri": "https://localhost:8080/"
        },
        "id": "mGQ7bJ70pmGL",
        "outputId": "2db959a2-54f5-4110-e80f-a76d425c20ec"
      },
      "execution_count": 15,
      "outputs": [
        {
          "output_type": "stream",
          "name": "stdout",
          "text": [
            "0 red\n",
            "1 yello\n",
            "2 green\n",
            "3 purple\n",
            "4 blue\n"
          ]
        }
      ]
    },
    {
      "cell_type": "markdown",
      "source": [
        "\n",
        "## while loop"
      ],
      "metadata": {
        "id": "HT1tbbfUe7Qb"
      }
    },
    {
      "cell_type": "code",
      "source": [
        "# while loop example\n",
        "\n",
        "dates = [1974, 1984, 1973, 1945]\n",
        "\n",
        "i = 0\n",
        "year = dates[0]\n",
        "\n",
        "while (year != 1973):\n",
        "  print(year)\n",
        "  i += 1\n",
        "  year = dates[i]\n",
        "print(\"It took \", i , 'repetitions to get out of loop')"
      ],
      "metadata": {
        "colab": {
          "base_uri": "https://localhost:8080/"
        },
        "id": "HE5B0NzcfEeD",
        "outputId": "20b4020c-7345-40af-b466-98506f193dcf"
      },
      "execution_count": 19,
      "outputs": [
        {
          "output_type": "stream",
          "name": "stdout",
          "text": [
            "1974\n",
            "1984\n",
            "It took  2 repetitions to get out of loop\n"
          ]
        }
      ]
    },
    {
      "cell_type": "code",
      "source": [],
      "metadata": {
        "id": "9PUsrcRCgNS_"
      },
      "execution_count": null,
      "outputs": []
    }
  ]
}