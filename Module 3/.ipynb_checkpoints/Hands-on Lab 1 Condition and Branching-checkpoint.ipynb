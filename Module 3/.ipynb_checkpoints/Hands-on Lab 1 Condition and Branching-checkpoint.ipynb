{
 "cells": [
  {
   "cell_type": "markdown",
   "id": "57e57ecb-8e38-4407-8377-4dcbe5ca0c34",
   "metadata": {},
   "source": [
    "# Conditions and Branching"
   ]
  },
  {
   "cell_type": "markdown",
   "id": "735c2343-8514-4b77-996a-41e6db01a920",
   "metadata": {},
   "source": [
    "## copmareson operations\n",
    "\n",
    "some of the operators\n",
    "<ul>\n",
    "    <li>equal: <b>==</b></li>\n",
    "    <li>not equal: <b>!=</b></li>\n",
    "    <li>greater than: <b>></b></li>\n",
    "    <li>less than: <b>&lt;</b></li>\n",
    "    <li>greater than or equal to: <b>>=</b></li>\n",
    "    <li>less than or equal to: <b>&lt;=</b></li>\n",
    "</ul>"
   ]
  },
  {
   "cell_type": "code",
   "execution_count": 1,
   "id": "02e7d19f-e2bd-4b4c-83f5-8c39159fd0d4",
   "metadata": {},
   "outputs": [
    {
     "data": {
      "text/plain": [
       "False"
      ]
     },
     "execution_count": 1,
     "metadata": {},
     "output_type": "execute_result"
    }
   ],
   "source": [
    "# Condition equal\n",
    "\n",
    "a = 5\n",
    "a == 6"
   ]
  },
  {
   "cell_type": "code",
   "execution_count": 2,
   "id": "373214ae-0ebf-451b-bcfe-2386fa6b6647",
   "metadata": {},
   "outputs": [
    {
     "data": {
      "text/plain": [
       "False"
      ]
     },
     "execution_count": 2,
     "metadata": {},
     "output_type": "execute_result"
    }
   ],
   "source": [
    "# Freater then \n",
    "\n",
    "a = 5\n",
    "a > 6"
   ]
  },
  {
   "cell_type": "code",
   "execution_count": 3,
   "id": "86cc4382-37b6-497f-b162-2249ae094411",
   "metadata": {},
   "outputs": [
    {
     "data": {
      "text/plain": [
       "True"
      ]
     },
     "execution_count": 3,
     "metadata": {},
     "output_type": "execute_result"
    }
   ],
   "source": [
    "# ineqality sign\n",
    "\n",
    "a = 5\n",
    "a != 6"
   ]
  },
  {
   "cell_type": "code",
   "execution_count": 4,
   "id": "e6222462-766b-41cb-8c75-cb13269ce2cc",
   "metadata": {},
   "outputs": [
    {
     "data": {
      "text/plain": [
       "False"
      ]
     },
     "execution_count": 4,
     "metadata": {},
     "output_type": "execute_result"
    }
   ],
   "source": [
    "# INEQUALITY SIGN\n",
    "\n",
    "a = 5\n",
    "a != 5"
   ]
  },
  {
   "cell_type": "code",
   "execution_count": 5,
   "id": "1ea9ec8c-fbed-4aaf-8ad2-93239a3cf3bc",
   "metadata": {},
   "outputs": [
    {
     "data": {
      "text/plain": [
       "False"
      ]
     },
     "execution_count": 5,
     "metadata": {},
     "output_type": "execute_result"
    }
   ],
   "source": [
    "# Use equality sign to compare two string\n",
    "\n",
    "\"Computer\" == \"Laptop\""
   ]
  },
  {
   "cell_type": "code",
   "execution_count": 6,
   "id": "374c6084-c10b-448a-842f-65ec3415c7a4",
   "metadata": {},
   "outputs": [
    {
     "data": {
      "text/plain": [
       "True"
      ]
     },
     "execution_count": 6,
     "metadata": {},
     "output_type": "execute_result"
    }
   ],
   "source": [
    "# Use Inequality sign to compare two string\n",
    "\n",
    "\"computer\" != \"Laptop\""
   ]
  },
  {
   "cell_type": "markdown",
   "id": "4e8a5d0b-839c-4c53-b05e-7031a3aadb91",
   "metadata": {},
   "source": [
    "## compare characters with ASCII code"
   ]
  },
  {
   "cell_type": "code",
   "execution_count": 7,
   "id": "a9831fbe-c109-48e1-979d-b1776f8beccc",
   "metadata": {},
   "outputs": [
    {
     "data": {
      "text/plain": [
       "True"
      ]
     },
     "execution_count": 7,
     "metadata": {},
     "output_type": "execute_result"
    }
   ],
   "source": [
    "## compare characters with ASCII code\n",
    "\n",
    "'B' > 'A'"
   ]
  },
  {
   "cell_type": "code",
   "execution_count": 9,
   "id": "a8112d08-1dbf-4faa-8f8f-6c1a8dab402a",
   "metadata": {},
   "outputs": [
    {
     "data": {
      "text/plain": [
       "True"
      ]
     },
     "execution_count": 9,
     "metadata": {},
     "output_type": "execute_result"
    }
   ],
   "source": [
    "## compare characters with ASCII code\n",
    "## Use mutiple characters\n",
    "\n",
    "\"BA\" > \"AB\""
   ]
  },
  {
   "cell_type": "markdown",
   "id": "b18f8293-ebae-40e8-a164-9d9e9a759bb0",
   "metadata": {},
   "source": [
    "## Branching"
   ]
  },
  {
   "cell_type": "code",
   "execution_count": 2,
   "id": "bf8504bf-186f-491a-81e0-befe1b4be3f7",
   "metadata": {},
   "outputs": [
    {
     "name": "stdout",
     "output_type": "stream",
     "text": [
      "You May Enter\n",
      "Move on\n"
     ]
    }
   ],
   "source": [
    "# IF statement example\n",
    "\n",
    "age = 19\n",
    "\n",
    "if age > 18:\n",
    "    print(\"You May Enter\")\n",
    "\n",
    "print(\"Move on\")"
   ]
  },
  {
   "cell_type": "code",
   "execution_count": 7,
   "id": "b3c29cdf-ee12-4c66-8807-07f853be3f69",
   "metadata": {},
   "outputs": [
    {
     "name": "stdout",
     "output_type": "stream",
     "text": [
      "Go see Meat Loaf\n",
      "Move on\n"
     ]
    }
   ],
   "source": [
    "#else statement example \n",
    "\n",
    "age = 18 \n",
    "\n",
    "if age  > 18:\n",
    "    print(\"You can enter\")\n",
    "\n",
    "else:\n",
    "    print(\"Go see Meat Loaf\")\n",
    "\n",
    "print(\"Move on\")"
   ]
  },
  {
   "cell_type": "code",
   "execution_count": 2,
   "id": "28a9f8bf-e46b-4165-a6b1-fb0b3c012147",
   "metadata": {},
   "outputs": [
    {
     "name": "stdout",
     "output_type": "stream",
     "text": [
      "go see pink  floyd\n",
      "Move on\n"
     ]
    }
   ],
   "source": [
    "# eilf statement example \n",
    "\n",
    "age = 18\n",
    "\n",
    "if age > 18:\n",
    "    print(\"You Can Enter\")\n",
    "elif age == 18:\n",
    "    print(\"go see pink  floyd\")\n",
    "else:\n",
    "    print(\"go see Meat Loaf\")\n",
    "print(\"Move on\")"
   ]
  },
  {
   "cell_type": "code",
   "execution_count": null,
   "id": "97acaf05-b12f-4601-b182-38a087816196",
   "metadata": {},
   "outputs": [],
   "source": []
  }
 ],
 "metadata": {
  "kernelspec": {
   "display_name": "Python 3 (ipykernel)",
   "language": "python",
   "name": "python3"
  },
  "language_info": {
   "codemirror_mode": {
    "name": "ipython",
    "version": 3
   },
   "file_extension": ".py",
   "mimetype": "text/x-python",
   "name": "python",
   "nbconvert_exporter": "python",
   "pygments_lexer": "ipython3",
   "version": "3.12.1"
  }
 },
 "nbformat": 4,
 "nbformat_minor": 5
}
