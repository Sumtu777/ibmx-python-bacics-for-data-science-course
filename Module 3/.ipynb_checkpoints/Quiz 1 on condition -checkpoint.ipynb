{
 "cells": [
  {
   "cell_type": "markdown",
   "id": "6367ed0d-03fb-4c4a-baa8-4c595d301cbc",
   "metadata": {},
   "source": [
    "Analyze a dataset containing information about renowned athletes, including their names, sports, and notable achievements, to apply conditional logic and filtering techniques.\n",
    "\n",
    "<table border=\"1\">\n",
    "  <tr>\n",
    "    <th>Player Name</th>\n",
    "    <th>Sport</th>\n",
    "    <th>Achievements</th>\n",
    "  </tr>\n",
    "  <tr>\n",
    "    <td>Serena Williams</td>\n",
    "    <td>Tennis</td>\n",
    "    <td>23 Grand Slams</td>\n",
    "  </tr>\n",
    "  <tr>\n",
    "    <td>Lionel Messi</td>\n",
    "    <td>Soccer</td>\n",
    "    <td>7 Ballon d'Ors</td>\n",
    "  </tr>\n",
    "  <tr>\n",
    "    <td>Michael Phelps</td>\n",
    "    <td>Swimming</td>\n",
    "    <td>23 Gold Medals</td>\n",
    "  </tr>\n",
    "  <tr>\n",
    "    <td>Usain Bolt</td>\n",
    "    <td>Athletics</td>\n",
    "    <td>8 Gold Medals</td>\n",
    "  </tr>\n",
    "  <tr>\n",
    "    <td>Roger Federer</td>\n",
    "    <td>Tennis</td>\n",
    "    <td>20 Grand Slams</td>\n",
    "  </tr>\n",
    "  <tr>\n",
    "    <td>Cristiano Ronaldo</td>\n",
    "    <td>Soccer</td>\n",
    "    <td>5 Ballon d'Ors</td>\n",
    "  </tr>\n",
    "</table>\n",
    "\n"
   ]
  },
  {
   "cell_type": "markdown",
   "id": "9fd3facc-baea-4e2e-bbc8-c38f06da4697",
   "metadata": {},
   "source": [
    "Write a Python program to check if a player Lionel Messi has more than 10 achievements. If the condition is true, print the player's name, sport, and achievements else print does not have more than 10 achievements."
   ]
  },
  {
   "cell_type": "code",
   "execution_count": 11,
   "id": "e8918143-60f2-4ccd-a092-52c46ba7a5ce",
   "metadata": {},
   "outputs": [
    {
     "name": "stdout",
     "output_type": "stream",
     "text": [
      "Lionel Messi who palys Soccer has less then 10 achievemants.\n"
     ]
    }
   ],
   "source": [
    "# Data entry \n",
    "\n",
    "player1 = \"Lionel Messi\"\n",
    "sport = \"Soccer\"\n",
    "achievemants = 7\n",
    "\n",
    "# conditions and printing\n",
    "\n",
    "if achievemants > 10:\n",
    "    print(player1, \"who plays\", sport, \"Has more then 10 achievemants!\")\n",
    "else:\n",
    "    print(player1, \"who palys\", sport, \"has less then 10 achievemants.\")\n"
   ]
  },
  {
   "cell_type": "markdown",
   "id": "35e4b712-6723-4526-8d10-4617b260a277",
   "metadata": {},
   "source": [
    "Write a Python program to check if a player belongs to the sport Tennis or has exactly 20 achievements. If the condition is true, print a success message."
   ]
  },
  {
   "cell_type": "code",
   "execution_count": 14,
   "id": "8f322a4d-ae51-493c-bf1e-f12b5bb71cc8",
   "metadata": {},
   "outputs": [
    {
     "name": "stdout",
     "output_type": "stream",
     "text": [
      "Success\n"
     ]
    }
   ],
   "source": [
    "# Entring player data \n",
    "\n",
    "player = \"Roger Federer\"\n",
    "sport = \"Tennis\"\n",
    "achievemants = 20\n",
    "\n",
    "# printing conditions\n",
    "\n",
    "if achievemants == 20 or sport == \"Tennis\":\n",
    "    print(\"Success\")\n",
    "else:\n",
    "    print(\"Fail\")"
   ]
  },
  {
   "cell_type": "markdown",
   "id": "3963598e-9406-44ef-a799-48977d04ddd2",
   "metadata": {},
   "source": [
    "Write a Python program to check if a player has less than 10 achievements and does not play Soccer. Print their details if they meet the criteria.\n"
   ]
  },
  {
   "cell_type": "code",
   "execution_count": null,
   "id": "03431493-2a04-4e84-9107-8fa279aea9b5",
   "metadata": {},
   "outputs": [],
   "source": []
  },
  {
   "cell_type": "code",
   "execution_count": 13,
   "id": "2dbb1e77-f027-4484-8b3b-52e79eb12534",
   "metadata": {},
   "outputs": [
    {
     "name": "stdout",
     "output_type": "stream",
     "text": [
      "Name: Usain Bolt \n",
      "Who is in:  Athletics \n",
      "has total achievemants of: 8\n"
     ]
    }
   ],
   "source": [
    "import re\n",
    "# Entering player data \n",
    "player = 'Usain Bolt'\n",
    "sport = \"Athletics\"\n",
    "achievemants = 8\n",
    "ing = \"soccer\"\n",
    "\n",
    "# Chechking the conditions\n",
    "if achievemants < 10 and sport != (ing, re.IGNORECASE):\n",
    "    print(\"Name:\", player, '\\n' \n",
    "          \"Who is in: \", sport, '\\n'\n",
    "          \"has total achievemants of:\", achievemants)\n"
   ]
  },
  {
   "cell_type": "code",
   "execution_count": null,
   "id": "7cc933d8-4385-477b-abd9-5af4b737a242",
   "metadata": {},
   "outputs": [],
   "source": []
  }
 ],
 "metadata": {
  "kernelspec": {
   "display_name": "Python 3 (ipykernel)",
   "language": "python",
   "name": "python3"
  },
  "language_info": {
   "codemirror_mode": {
    "name": "ipython",
    "version": 3
   },
   "file_extension": ".py",
   "mimetype": "text/x-python",
   "name": "python",
   "nbconvert_exporter": "python",
   "pygments_lexer": "ipython3",
   "version": "3.12.1"
  }
 },
 "nbformat": 4,
 "nbformat_minor": 5
}
