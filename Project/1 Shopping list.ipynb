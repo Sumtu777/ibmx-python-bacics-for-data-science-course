{
 "cells": [
  {
   "cell_type": "markdown",
   "id": "508aa9b9-2275-40b1-a4b5-736e58cd01e9",
   "metadata": {},
   "source": [
    "# Task-1  Create an empty list\n",
    "At first we need to create a empty list for storing the items to buy in Shopping list.\n"
   ]
  },
  {
   "cell_type": "code",
   "execution_count": 5,
   "id": "37ec846b-ef33-4e1b-9dde-55da7426fc29",
   "metadata": {},
   "outputs": [],
   "source": [
    "# creating an empty list\n",
    "\n",
    "shopping_list = []"
   ]
  },
  {
   "cell_type": "markdown",
   "id": "eefe948a-1417-4f1d-9732-1f2d19630367",
   "metadata": {},
   "source": [
    "# Task-2 Now store the number of items to the shopping_list\n",
    "* Watch\n",
    "* Laptop\n",
    "* Shoes\n",
    "* Pen\n",
    "* Clothes\n",
    "\n",
    "\n",
    "<br>\n",
    "\n"
   ]
  },
  {
   "cell_type": "code",
   "execution_count": 6,
   "id": "08892c78-45df-441f-8f5a-4c0aa0963c8b",
   "metadata": {},
   "outputs": [
    {
     "data": {
      "text/plain": [
       "['Watch', 'Laptop', 'Shoes', 'Pen', 'Cloths']"
      ]
     },
     "execution_count": 6,
     "metadata": {},
     "output_type": "execute_result"
    }
   ],
   "source": [
    "# Adding Item to the sopping list\n",
    "\n",
    "shopping_list.extend([\"Watch\", \"Laptop\", \"Shoes\", \"Pen\", \"Cloths\"])\n",
    "shopping_list"
   ]
  },
  {
   "cell_type": "markdown",
   "id": "eae169a8-0272-4dea-be04-6efb1d1b0307",
   "metadata": {},
   "source": [
    "# Task-3 Add a new item to the shopping_list\n",
    "Seems like I missed one item \"Football\" to add in the shopping list.\n",
    "<br>\n"
   ]
  },
  {
   "cell_type": "code",
   "execution_count": 7,
   "id": "98b7b618-0dee-4bee-9f27-abed6689e381",
   "metadata": {},
   "outputs": [
    {
     "data": {
      "text/plain": [
       "['Watch', 'Laptop', 'Shoes', 'Pen', 'Cloths', 'Football']"
      ]
     },
     "execution_count": 7,
     "metadata": {},
     "output_type": "execute_result"
    }
   ],
   "source": [
    "# add new item to the list\n",
    "\n",
    "shopping_list.append(\"Football\")\n",
    "shopping_list"
   ]
  },
  {
   "cell_type": "markdown",
   "id": "a3772936-9dc4-43a8-b1df-8e1f418b26b9",
   "metadata": {},
   "source": [
    "# Task-4 Print First item from the shopping_list\n",
    "Let's check the first item that we need to buy.\n",
    "<br>\n"
   ]
  },
  {
   "cell_type": "code",
   "execution_count": 8,
   "id": "8b0f05bc-f8c3-4a62-be22-c50de6d340f3",
   "metadata": {},
   "outputs": [
    {
     "name": "stdout",
     "output_type": "stream",
     "text": [
      "Watch\n"
     ]
    }
   ],
   "source": [
    "# printing item from the list\n",
    "\n",
    "print(shopping_list[0])"
   ]
  },
  {
   "cell_type": "markdown",
   "id": "f060e63f-bbbb-40ca-87d2-6bc84e8acef4",
   "metadata": {},
   "source": [
    "# Task-5 Print Last item from the shopping_list\n",
    "Let's check the last time that we need to buy.\n",
    "<br>"
   ]
  },
  {
   "cell_type": "code",
   "execution_count": 9,
   "id": "fc858160-6f4f-47c4-ba1d-c12e1edcb02f",
   "metadata": {},
   "outputs": [
    {
     "name": "stdout",
     "output_type": "stream",
     "text": [
      "Football\n"
     ]
    }
   ],
   "source": [
    "# print the last item from the list\n",
    "\n",
    "print(shopping_list[-1])"
   ]
  },
  {
   "cell_type": "markdown",
   "id": "f2793c42-c8aa-4fba-a321-5b9910700bfe",
   "metadata": {},
   "source": [
    "# Task-6 Print the entire Shopping List\n"
   ]
  },
  {
   "cell_type": "code",
   "execution_count": 10,
   "id": "66aa062c-156c-45b0-a792-e8cf7033acd9",
   "metadata": {},
   "outputs": [
    {
     "name": "stdout",
     "output_type": "stream",
     "text": [
      "['Watch', 'Laptop', 'Shoes', 'Pen', 'Cloths', 'Football']\n"
     ]
    }
   ],
   "source": [
    "# printing a list\n",
    "\n",
    "print(shopping_list)"
   ]
  },
  {
   "cell_type": "markdown",
   "id": "f99bcdb3-7ae8-4829-b62f-db84346a1038",
   "metadata": {},
   "source": [
    "# Task-7 Print the item that are important to buy from the Shopping List\n",
    "Print \"Laptop\" and \"shoes\"\n"
   ]
  },
  {
   "cell_type": "code",
   "execution_count": 12,
   "id": "498466e4-0ff4-4bb7-9d24-efe59d114fee",
   "metadata": {},
   "outputs": [
    {
     "name": "stdout",
     "output_type": "stream",
     "text": [
      "['Laptop', 'Shoes']\n"
     ]
    }
   ],
   "source": [
    "# print\n",
    "\n",
    "print(shopping_list[1:3])"
   ]
  },
  {
   "cell_type": "markdown",
   "id": "d6704825-d9ec-4bc3-90e2-d3b38c937833",
   "metadata": {},
   "source": [
    "# Task-8 Change the item from the shopping_list \n",
    "Instead of <u>\"Pen\"</u> I want to buy <u>\"Notebook\"</u>\n",
    "let's change the item stored in the list.\n",
    "<br>"
   ]
  },
  {
   "cell_type": "code",
   "execution_count": 13,
   "id": "d839ec58-d7fe-4536-9746-0107a3072a92",
   "metadata": {},
   "outputs": [
    {
     "data": {
      "text/plain": [
       "['Watch', 'Laptop', 'Shoes', 'Notebook', 'Cloths', 'Football']"
      ]
     },
     "execution_count": 13,
     "metadata": {},
     "output_type": "execute_result"
    }
   ],
   "source": [
    "# replace item onthe list\n",
    "shopping_list[3] = \"Notebook\"\n",
    "shopping_list"
   ]
  },
  {
   "cell_type": "markdown",
   "id": "ce9bbbbf-7e3a-4864-bb6e-88deb634c0c0",
   "metadata": {},
   "source": [
    "# Task-9 Delete the item from the shopping_list that is not required\n",
    "Let's delete items that are unimportant, such as; I don't want to buy <u>Clothes</u>, let's delete it.\n",
    "<br>"
   ]
  },
  {
   "cell_type": "code",
   "execution_count": 16,
   "id": "716b4c62-ec5c-404d-9562-2a9a06d0e747",
   "metadata": {},
   "outputs": [
    {
     "data": {
      "text/plain": [
       "['Watch', 'Laptop', 'Shoes', 'Notebook', 'Football']"
      ]
     },
     "execution_count": 16,
     "metadata": {},
     "output_type": "execute_result"
    }
   ],
   "source": [
    "# delet item from the list\n",
    "\n",
    "del(shopping_list[-2])\n",
    "shopping_list"
   ]
  },
  {
   "cell_type": "markdown",
   "id": "2ea0405c-017d-41b9-9d02-f97800a40289",
   "metadata": {},
   "source": [
    "# Task-10 Print the shopping list\n",
    "We are ready with our shopping list.\n"
   ]
  },
  {
   "cell_type": "code",
   "execution_count": 18,
   "id": "3693b2bc-c8b5-4f22-b8eb-be1a18c6d004",
   "metadata": {},
   "outputs": [
    {
     "name": "stdout",
     "output_type": "stream",
     "text": [
      "['Watch', 'Laptop', 'Shoes', 'Notebook', 'Football']\n"
     ]
    }
   ],
   "source": [
    "# print shopping list\n",
    "\n",
    "print(shopping_list)"
   ]
  },
  {
   "cell_type": "code",
   "execution_count": null,
   "id": "a49b4831-5c9e-4715-922c-15c506137807",
   "metadata": {},
   "outputs": [],
   "source": []
  }
 ],
 "metadata": {
  "kernelspec": {
   "display_name": "Python 3 (ipykernel)",
   "language": "python",
   "name": "python3"
  },
  "language_info": {
   "codemirror_mode": {
    "name": "ipython",
    "version": 3
   },
   "file_extension": ".py",
   "mimetype": "text/x-python",
   "name": "python",
   "nbconvert_exporter": "python",
   "pygments_lexer": "ipython3",
   "version": "3.12.1"
  }
 },
 "nbformat": 4,
 "nbformat_minor": 5
}
