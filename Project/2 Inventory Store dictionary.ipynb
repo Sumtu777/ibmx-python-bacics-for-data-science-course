{
 "cells": [
  {
   "cell_type": "markdown",
   "id": "e435c971-29ec-4d5b-bdf5-e917afaf8b3f",
   "metadata": {},
   "source": [
    "The inventory store scenario project utilizes a dictionary-based approach to develop a robust system for managing and tracking inventory in a retail store.\n",
    "<br>\n",
    "**Note:- You will be working with two product details.**"
   ]
  },
  {
   "cell_type": "markdown",
   "id": "18f4d5a9-9931-4d48-b201-3a02cc3caab6",
   "metadata": {},
   "source": [
    "## Task-1 Create an empty dictionary \n",
    "\n",
    "First you need to create an empty dictionary, where you will be storing the product details.\n"
   ]
  },
  {
   "cell_type": "code",
   "execution_count": 47,
   "id": "626cbc48-a90d-419c-be8c-ffa860b50f69",
   "metadata": {},
   "outputs": [],
   "source": [
    "# create an empty dictionary\n",
    "\n",
    "inventory_dict = {}"
   ]
  },
  {
   "cell_type": "markdown",
   "id": "c4b4574f-e26d-4d97-b970-ca77120631b2",
   "metadata": {},
   "source": [
    "## Task-2 Store the first product details in variable\n",
    "* Product Name= Mobile phone\n",
    "* Product Quantity= 5\n",
    "* Product price= 20000\n",
    "* Product Release Year= 2020"
   ]
  },
  {
   "cell_type": "code",
   "execution_count": 48,
   "id": "12333b1f-43d6-486b-91d5-d0195ac379ea",
   "metadata": {},
   "outputs": [],
   "source": [
    "# first product details in variable\n",
    "\n",
    "name1 = \"Mobile phone\"\n",
    "quantity1 = 5\n",
    "price1 = 20000\n",
    "release_year1 = 2020"
   ]
  },
  {
   "cell_type": "markdown",
   "id": "24f74c0d-5d4e-4d58-a9f4-2eb516dbda7a",
   "metadata": {},
   "source": [
    "## Task-3 Add the details in inventory\n"
   ]
  },
  {
   "cell_type": "code",
   "execution_count": 49,
   "id": "54f1663d-8609-427c-9413-a34f37078383",
   "metadata": {},
   "outputs": [],
   "source": [
    "# add the detals in dictionary\n",
    "\n",
    "inventory_dict[\"name1\"] = name1\n",
    "inventory_dict[\"quntity1\"] = quantity1\n",
    "inventory_dict[\"price1\"] = price1\n",
    "inventory_dict[\"release_year1\"] = release_year1"
   ]
  },
  {
   "cell_type": "markdown",
   "id": "b1033f0c-e35d-48db-9ac2-a73a27d431fc",
   "metadata": {},
   "source": [
    "## Task-4 Store the second product details in a variable.\n",
    "* Product Name= \"Laptop\"\n",
    "* Product Quantity= 10\n",
    "* Product price = 50000\n",
    "* Product Release Year= 2023\n"
   ]
  },
  {
   "cell_type": "code",
   "execution_count": 50,
   "id": "ffce2ef4-71a3-4229-9e8d-bfd472b1a299",
   "metadata": {},
   "outputs": [],
   "source": [
    "# second product details in a variable\n",
    "\n",
    "name2 = \"Laptop\"\n",
    "quantity2 = 10\n",
    "price2 = 50000\n",
    "release_year2 = 2023"
   ]
  },
  {
   "cell_type": "markdown",
   "id": "98cf1fde-942d-4dd0-b995-01d22a4d987e",
   "metadata": {},
   "source": [
    "## Task-5 Add the item detail into the inventory.\n"
   ]
  },
  {
   "cell_type": "code",
   "execution_count": 51,
   "id": "fbcb60e6-369c-446e-872e-08bf9b2b70c2",
   "metadata": {},
   "outputs": [],
   "source": [
    "# addinf second product in inventory\n",
    "\n",
    "inventory_dict[\"name2\"] = name2\n",
    "inventory_dict[\"quntity2\"] = quantity2\n",
    "inventory_dict[\"price2\"] = price2\n",
    "inventory_dict[\"release_year2\"] = release_year2"
   ]
  },
  {
   "cell_type": "markdown",
   "id": "cf917a5d-a7fd-49a3-8ee4-fc0b18758803",
   "metadata": {},
   "source": [
    "## Task-6 Display the Products present in the inventory\n",
    "\n",
    "Use print statement for displaying the products\n"
   ]
  },
  {
   "cell_type": "code",
   "execution_count": 52,
   "id": "61ded2dd-bfe2-4b12-a6f4-34685433eae9",
   "metadata": {},
   "outputs": [
    {
     "name": "stdout",
     "output_type": "stream",
     "text": [
      "{'name1': 'Mobile phone', 'quntity1': 5, 'price1': 20000, 'release_year1': 2020, 'name2': 'Laptop', 'quntity2': 10, 'price2': 50000, 'release_year2': 2023}\n"
     ]
    }
   ],
   "source": [
    "print(inventory_dict)"
   ]
  },
  {
   "cell_type": "markdown",
   "id": "e17e324f-3f16-4b8b-8ee8-5fc5536db508",
   "metadata": {},
   "source": [
    "## Task-7 Check if `ProductNo1_releaseYear` and `ProductNo2_releaseYear` is in the inventory\n"
   ]
  },
  {
   "cell_type": "code",
   "execution_count": 53,
   "id": "27736cd5-8375-4163-829c-3c38292fb905",
   "metadata": {},
   "outputs": [
    {
     "name": "stdout",
     "output_type": "stream",
     "text": [
      "2020\n",
      "2023\n"
     ]
    }
   ],
   "source": [
    "# check product release year\n",
    "\n",
    "print(inventory_dict[\"release_year1\"])\n",
    "print(inventory_dict[\"release_year2\"])"
   ]
  },
  {
   "cell_type": "markdown",
   "id": "a03ff94f-4c05-47dc-a4c6-b88b55d369ad",
   "metadata": {},
   "source": [
    "**As in inventory `Release year` is not required, let's delete it.**\n",
    "\n",
    "## Task-8 Delete release year of both the products from the inventory\n"
   ]
  },
  {
   "cell_type": "code",
   "execution_count": 54,
   "id": "0dbb134f-4ea7-41c6-b5e5-ba7e9559077e",
   "metadata": {},
   "outputs": [
    {
     "name": "stdout",
     "output_type": "stream",
     "text": [
      "{'name1': 'Mobile phone', 'quntity1': 5, 'price1': 20000, 'name2': 'Laptop', 'quntity2': 10, 'price2': 50000}\n"
     ]
    }
   ],
   "source": [
    "#  Delete release year \n",
    "\n",
    "del(inventory_dict[\"release_year1\"])\n",
    "del(inventory_dict[\"release_year2\"])\n",
    "\n",
    "print(inventory_dict)"
   ]
  },
  {
   "cell_type": "code",
   "execution_count": null,
   "id": "cbadfdfe-443b-47b6-adf3-88898c31179b",
   "metadata": {},
   "outputs": [],
   "source": []
  }
 ],
 "metadata": {
  "kernelspec": {
   "display_name": "Python 3 (ipykernel)",
   "language": "python",
   "name": "python3"
  },
  "language_info": {
   "codemirror_mode": {
    "name": "ipython",
    "version": 3
   },
   "file_extension": ".py",
   "mimetype": "text/x-python",
   "name": "python",
   "nbconvert_exporter": "python",
   "pygments_lexer": "ipython3",
   "version": "3.12.1"
  }
 },
 "nbformat": 4,
 "nbformat_minor": 5
}
