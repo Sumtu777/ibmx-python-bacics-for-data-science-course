{
 "cells": [
  {
   "cell_type": "markdown",
   "id": "f3741a45-c601-4654-bce3-32dd15658ff2",
   "metadata": {},
   "source": [
    "# tuples"
   ]
  },
  {
   "cell_type": "code",
   "execution_count": 1,
   "id": "71e7885a-dc96-4fbc-bae1-c093f8b3f55d",
   "metadata": {},
   "outputs": [
    {
     "data": {
      "text/plain": [
       "('disco', 1, 11.44)"
      ]
     },
     "execution_count": 1,
     "metadata": {},
     "output_type": "execute_result"
    }
   ],
   "source": [
    "# create a tuples\n",
    "\n",
    "a = (\"disco\",1,11.44)\n",
    "a"
   ]
  },
  {
   "cell_type": "code",
   "execution_count": 2,
   "id": "cb266717-86e3-4867-b6c4-c41b02298724",
   "metadata": {},
   "outputs": [
    {
     "data": {
      "text/plain": [
       "tuple"
      ]
     },
     "execution_count": 2,
     "metadata": {},
     "output_type": "execute_result"
    }
   ],
   "source": [
    "# print they type of tuples\n",
    "\n",
    "type(a)"
   ]
  },
  {
   "cell_type": "markdown",
   "id": "5a72c25d-1bb0-485c-81db-0b88605fb4ab",
   "metadata": {},
   "source": [
    "## Indexing"
   ]
  },
  {
   "cell_type": "code",
   "execution_count": 3,
   "id": "50e4f100-30fe-42b2-a2ec-0bb607e9d8fb",
   "metadata": {},
   "outputs": [
    {
     "name": "stdout",
     "output_type": "stream",
     "text": [
      "disco\n",
      "1\n",
      "11.44\n"
     ]
    }
   ],
   "source": [
    "# print every variable in tuples\n",
    "\n",
    "print(a[0])\n",
    "print(a[1])\n",
    "print(a[2])"
   ]
  },
  {
   "cell_type": "code",
   "execution_count": 4,
   "id": "97d51f1c-1931-4c33-b402-fbcad632a89b",
   "metadata": {},
   "outputs": [
    {
     "name": "stdout",
     "output_type": "stream",
     "text": [
      "<class 'str'>\n",
      "<class 'int'>\n",
      "<class 'float'>\n"
     ]
    }
   ],
   "source": [
    "# print type of value in each variable\n",
    "\n",
    "print(type(a[0]))\n",
    "print(type(a[1]))\n",
    "print(type(a[2]))"
   ]
  },
  {
   "cell_type": "code",
   "execution_count": 5,
   "id": "e26dcc0c-3a0b-4416-bef0-03071cea6ce2",
   "metadata": {},
   "outputs": [
    {
     "name": "stdout",
     "output_type": "stream",
     "text": [
      "11.44\n",
      "1\n",
      "disco\n"
     ]
    }
   ],
   "source": [
    "# use negative index to get variable\n",
    "\n",
    "print(a[-1])\n",
    "print(a[-2])\n",
    "print(a[-3])"
   ]
  },
  {
   "cell_type": "markdown",
   "id": "bfc4ac44-f6d4-4de2-b8a8-c5947e332589",
   "metadata": {},
   "source": [
    "<h3 id=\"concate\">Concatenate Tuples</h3>\n"
   ]
  },
  {
   "cell_type": "code",
   "execution_count": 6,
   "id": "1584670a-4166-4e50-add9-29a6a5e3d3f3",
   "metadata": {},
   "outputs": [
    {
     "data": {
      "text/plain": [
       "('disco', 1, 11.44, 'rock', 10, 12)"
      ]
     },
     "execution_count": 6,
     "metadata": {},
     "output_type": "execute_result"
    }
   ],
   "source": [
    "# Concatenate two tuples\n",
    "\n",
    "b = a + (\"rock\", 10,12)\n",
    "b"
   ]
  },
  {
   "cell_type": "markdown",
   "id": "fa4d99be-e018-4f75-8ea8-4ec0083cf878",
   "metadata": {},
   "source": [
    "# slicing"
   ]
  },
  {
   "cell_type": "code",
   "execution_count": 7,
   "id": "03bbccf4-77e7-408f-9971-47538b73b7c4",
   "metadata": {},
   "outputs": [
    {
     "data": {
      "text/plain": [
       "(1, 11.44, 'rock')"
      ]
     },
     "execution_count": 7,
     "metadata": {},
     "output_type": "execute_result"
    }
   ],
   "source": [
    "# use Slice\n",
    "b[1:4]"
   ]
  },
  {
   "cell_type": "code",
   "execution_count": 8,
   "id": "4f559f1f-8ec9-44d8-8c1e-971e38cdfc7a",
   "metadata": {},
   "outputs": [
    {
     "data": {
      "text/plain": [
       "6"
      ]
     },
     "execution_count": 8,
     "metadata": {},
     "output_type": "execute_result"
    }
   ],
   "source": [
    "# GET lenth of tiuples\n",
    "\n",
    "len(b)"
   ]
  },
  {
   "cell_type": "markdown",
   "id": "bd12d4c2-2a25-435d-a5e8-756a7a48bf6d",
   "metadata": {},
   "source": [
    "## shorting\n"
   ]
  },
  {
   "cell_type": "code",
   "execution_count": 15,
   "id": "556af5f6-e769-4de0-99ec-06e720bcb9e7",
   "metadata": {},
   "outputs": [
    {
     "name": "stdout",
     "output_type": "stream",
     "text": [
      "[0, 2, 5, 6, 6, 8, 9, 9, 10]\n"
     ]
    }
   ],
   "source": [
    "# A sample tuple\n",
    "\n",
    "ratings = (0, 9, 6, 5, 10, 8, 9, 6, 2)\n",
    "\n",
    "# shorting truple\n",
    "\n",
    "Rating_sorted = sorted(ratings)\n",
    "print(Rating_sorted)"
   ]
  },
  {
   "cell_type": "markdown",
   "id": "fa899161-97fd-46d1-94fd-ac2b2eb4daf1",
   "metadata": {},
   "source": [
    "## nesting"
   ]
  },
  {
   "cell_type": "code",
   "execution_count": 2,
   "id": "a8bb8f64-a677-4795-9a6a-e1285fe8154a",
   "metadata": {},
   "outputs": [],
   "source": [
    "# create a nested tuple\n",
    "\n",
    "nestedT = (1, 2, (\"pop\", \"rock\") ,(3,4),(\"disco\",(1,2)))"
   ]
  },
  {
   "cell_type": "code",
   "execution_count": 3,
   "id": "7062c6bc-e887-4e8a-9e89-e01adcec0a35",
   "metadata": {},
   "outputs": [
    {
     "name": "stdout",
     "output_type": "stream",
     "text": [
      "Element 0 of Tuple:  1\n",
      "Element 1 of Tuple:  2\n",
      "Element 2 of Tuple:  ('pop', 'rock')\n",
      "Element 3 of Tuple:  (3, 4)\n",
      "Element 4 of Tuple:  ('disco', (1, 2))\n"
     ]
    }
   ],
   "source": [
    "# print each element on index\n",
    "\n",
    "print(\"Element 0 of Tuple: \", nestedT[0])\n",
    "print(\"Element 1 of Tuple: \", nestedT[1])\n",
    "print(\"Element 2 of Tuple: \", nestedT[2])\n",
    "print(\"Element 3 of Tuple: \", nestedT[3])\n",
    "print(\"Element 4 of Tuple: \", nestedT[4])"
   ]
  },
  {
   "cell_type": "code",
   "execution_count": 4,
   "id": "bf4e61b9-6acd-4e28-a70c-65689a2e8838",
   "metadata": {},
   "outputs": [
    {
     "name": "stdout",
     "output_type": "stream",
     "text": [
      "Element 2, 0 of Tuple:  pop\n",
      "Element 2, 1 of Tuple:  rock\n",
      "Element 3, 0 of Tuple:  3\n",
      "Element 3, 1 of Tuple:  4\n",
      "Element 4, 0 of Tuple:  disco\n",
      "Element 4, 1 of Tuple:  (1, 2)\n"
     ]
    }
   ],
   "source": [
    "print(\"Element 2, 0 of Tuple: \",   nestedT[2][0])\n",
    "print(\"Element 2, 1 of Tuple: \",   nestedT[2][1])\n",
    "print(\"Element 3, 0 of Tuple: \",   nestedT[3][0])\n",
    "print(\"Element 3, 1 of Tuple: \",   nestedT[3][1])\n",
    "print(\"Element 4, 0 of Tuple: \",   nestedT[4][0])\n",
    "print(\"Element 4, 1 of Tuple: \",   nestedT[4][1])"
   ]
  },
  {
   "cell_type": "code",
   "execution_count": 7,
   "id": "7eed05ba-67d2-4699-a0de-9937be7dc25a",
   "metadata": {},
   "outputs": [
    {
     "name": "stdout",
     "output_type": "stream",
     "text": [
      "1\n",
      "2\n"
     ]
    }
   ],
   "source": [
    "#  print element from second nested tuple\n",
    "\n",
    "print(nestedT[4][1][0])\n",
    "print(nestedT[4][1][1])"
   ]
  },
  {
   "cell_type": "code",
   "execution_count": 10,
   "id": "9ed7c805-47c6-4e2e-88ef-68f1db54fae4",
   "metadata": {},
   "outputs": [
    {
     "name": "stdout",
     "output_type": "stream",
     "text": [
      "r\n",
      "o\n",
      "c\n",
      "k\n"
     ]
    }
   ],
   "source": [
    "print(nestedT[2][1][0])\n",
    "print(nestedT[2][1][1])\n",
    "print(nestedT[2][1][2])\n",
    "print(nestedT[2][1][3])"
   ]
  },
  {
   "cell_type": "code",
   "execution_count": null,
   "id": "eb9c01da-0ee6-43bb-9d28-de34c6e13163",
   "metadata": {},
   "outputs": [],
   "source": []
  }
 ],
 "metadata": {
  "kernelspec": {
   "display_name": "Python 3 (ipykernel)",
   "language": "python",
   "name": "python3"
  },
  "language_info": {
   "codemirror_mode": {
    "name": "ipython",
    "version": 3
   },
   "file_extension": ".py",
   "mimetype": "text/x-python",
   "name": "python",
   "nbconvert_exporter": "python",
   "pygments_lexer": "ipython3",
   "version": "3.12.1"
  }
 },
 "nbformat": 4,
 "nbformat_minor": 5
}
