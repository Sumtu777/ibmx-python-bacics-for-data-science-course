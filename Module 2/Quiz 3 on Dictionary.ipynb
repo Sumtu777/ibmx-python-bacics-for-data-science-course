{
 "cells": [
  {
   "cell_type": "markdown",
   "id": "44d4ddbe-4810-41dd-8a85-b4c0f2aca513",
   "metadata": {},
   "source": [
    "## Quiz on Dictionaries"
   ]
  },
  {
   "cell_type": "markdown",
   "id": "b4323ed9-51c1-4418-866b-9de9f78fcb74",
   "metadata": {},
   "source": [
    "# 1\n",
    "<b>You will need this dictionary for the next two questions:</b>\n"
   ]
  },
  {
   "cell_type": "code",
   "execution_count": 3,
   "id": "2fd8bc61-aa08-46ba-a1ac-1b5846f44007",
   "metadata": {},
   "outputs": [
    {
     "data": {
      "text/plain": [
       "{'The Bodyguard': '1992', 'Saturday Night Fever': '1977'}"
      ]
     },
     "execution_count": 3,
     "metadata": {},
     "output_type": "execute_result"
    }
   ],
   "source": [
    "# Question sample dictionary\n",
    "\n",
    "soundtrack_dic = {\"The Bodyguard\":\"1992\", \"Saturday Night Fever\":\"1977\"}\n",
    "soundtrack_dic "
   ]
  },
  {
   "cell_type": "markdown",
   "id": "5f657d3c-0306-4559-8646-42712fa264b2",
   "metadata": {},
   "source": [
    "a) In the dictionary <code>soundtrack_dic</code> what are the keys ?\n"
   ]
  },
  {
   "cell_type": "code",
   "execution_count": 6,
   "id": "259ef546-e4f1-42e2-9a70-1a9c83143515",
   "metadata": {},
   "outputs": [
    {
     "data": {
      "text/plain": [
       "dict_keys(['The Bodyguard', 'Saturday Night Fever'])"
      ]
     },
     "execution_count": 6,
     "metadata": {},
     "output_type": "execute_result"
    }
   ],
   "source": [
    "# FINDING the keys in dictionary\n",
    "\n",
    "soundtrack_dic.keys()"
   ]
  },
  {
   "cell_type": "markdown",
   "id": "73ebcae7-1572-4450-992c-70062de9fc4a",
   "metadata": {},
   "source": [
    "b) In the dictionary <code>soundtrack_dic</code> what are the values ?\n"
   ]
  },
  {
   "cell_type": "code",
   "execution_count": 8,
   "id": "c2654e94-f58c-4258-9331-b05016c212c0",
   "metadata": {},
   "outputs": [
    {
     "data": {
      "text/plain": [
       "dict_values(['1992', '1977'])"
      ]
     },
     "execution_count": 8,
     "metadata": {},
     "output_type": "execute_result"
    }
   ],
   "source": [
    "# finding the value in dictionary\n",
    "\n",
    "soundtrack_dic.values()"
   ]
  },
  {
   "cell_type": "markdown",
   "id": "431f2af7-1a6e-4173-af5a-2e5a8c354f1a",
   "metadata": {},
   "source": [
    "# 2\n",
    "<b>You will need this dictionary for the following questions:</b>\n"
   ]
  },
  {
   "cell_type": "markdown",
   "id": "ad067881-123b-4f12-8fb8-ec4ba7c3b160",
   "metadata": {},
   "source": [
    "The Albums <b>Back in Black</b>, <b>The Bodyguard</b> and <b>Thriller</b> have the following music recording sales in millions 50, 50 and 65 respectively:\n"
   ]
  },
  {
   "cell_type": "markdown",
   "id": "8b38ec8d-0289-4d97-8a0c-fe2796180458",
   "metadata": {},
   "source": [
    "a) Create a dictionary <code>album_sales_dict</code> where the keys are the album name and the sales in millions are the values.\n"
   ]
  },
  {
   "cell_type": "code",
   "execution_count": 9,
   "id": "d70af051-1034-420a-bf2c-1e929603cfa0",
   "metadata": {},
   "outputs": [
    {
     "data": {
      "text/plain": [
       "{'Balck in black': 50, 'The Bodyguard': 50, 'Thriller': 65}"
      ]
     },
     "execution_count": 9,
     "metadata": {},
     "output_type": "execute_result"
    }
   ],
   "source": [
    "# creating a dictionary\n",
    "\n",
    "album_sales_dict = {\"Balck in black\": 50, \"The Bodyguard\": 50, \"Thriller\": 65}\n",
    "album_sales_dict"
   ]
  },
  {
   "cell_type": "markdown",
   "id": "178319fd-b3de-43a8-a2b8-d9a260fc3cf6",
   "metadata": {},
   "source": [
    "b) Use the dictionary to find the total sales of <b>Thriller</b>:\n"
   ]
  },
  {
   "cell_type": "code",
   "execution_count": 10,
   "id": "c6878612-532d-495d-9f25-f46faf6c095d",
   "metadata": {},
   "outputs": [
    {
     "data": {
      "text/plain": [
       "65"
      ]
     },
     "execution_count": 10,
     "metadata": {},
     "output_type": "execute_result"
    }
   ],
   "source": [
    "# find value with key\n",
    "\n",
    "album_sales_dict[\"Thriller\"]"
   ]
  },
  {
   "cell_type": "markdown",
   "id": "ad216e1b-9610-4b34-ab28-5d1ee6a4927f",
   "metadata": {},
   "source": [
    "c) Find the names of the albums from the dictionary using the method <code>keys()</code>:\n"
   ]
  },
  {
   "cell_type": "code",
   "execution_count": 11,
   "id": "808531f8-8df3-41b8-a844-381ca2529456",
   "metadata": {},
   "outputs": [
    {
     "data": {
      "text/plain": [
       "dict_keys(['Balck in black', 'The Bodyguard', 'Thriller'])"
      ]
     },
     "execution_count": 11,
     "metadata": {},
     "output_type": "execute_result"
    }
   ],
   "source": [
    "# print the keys of dictionary\n",
    "\n",
    "album_sales_dict.keys()"
   ]
  },
  {
   "cell_type": "markdown",
   "id": "3b16fefc-9ad9-4f6b-8beb-965abc476c7f",
   "metadata": {},
   "source": [
    "d) Find the values of the recording sales from the dictionary using the method <code>values</code>:\n"
   ]
  },
  {
   "cell_type": "code",
   "execution_count": 12,
   "id": "135451ae-db9b-47af-8b96-be4dc299f745",
   "metadata": {},
   "outputs": [
    {
     "data": {
      "text/plain": [
       "dict_values([50, 50, 65])"
      ]
     },
     "execution_count": 12,
     "metadata": {},
     "output_type": "execute_result"
    }
   ],
   "source": [
    "# print value from the dictionary\n",
    "\n",
    "album_sales_dict.values()"
   ]
  },
  {
   "cell_type": "code",
   "execution_count": null,
   "id": "5a97b16a-7fe3-4d88-a868-5edd58094977",
   "metadata": {},
   "outputs": [],
   "source": []
  }
 ],
 "metadata": {
  "kernelspec": {
   "display_name": "Python 3 (ipykernel)",
   "language": "python",
   "name": "python3"
  },
  "language_info": {
   "codemirror_mode": {
    "name": "ipython",
    "version": 3
   },
   "file_extension": ".py",
   "mimetype": "text/x-python",
   "name": "python",
   "nbconvert_exporter": "python",
   "pygments_lexer": "ipython3",
   "version": "3.12.1"
  }
 },
 "nbformat": 4,
 "nbformat_minor": 5
}
