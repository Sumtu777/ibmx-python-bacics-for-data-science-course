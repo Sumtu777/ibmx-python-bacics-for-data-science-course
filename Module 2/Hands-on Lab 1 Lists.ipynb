{
 "cells": [
  {
   "cell_type": "markdown",
   "id": "d238c622-4b26-4ea5-a596-a4f955bc3da0",
   "metadata": {},
   "source": [
    "# list"
   ]
  },
  {
   "cell_type": "markdown",
   "id": "a84b3997-ef37-4b5f-bd88-9e867becdc8e",
   "metadata": {},
   "source": [
    "## index"
   ]
  },
  {
   "cell_type": "code",
   "execution_count": 1,
   "id": "600247ab-e3fe-4f7b-8e80-d7e7ac495160",
   "metadata": {},
   "outputs": [
    {
     "data": {
      "text/plain": [
       "['The Bodyguard', 7.0, 1992]"
      ]
     },
     "execution_count": 1,
     "metadata": {},
     "output_type": "execute_result"
    }
   ],
   "source": [
    "# create a list\n",
    "\n",
    "L = [\"The Bodyguard\", 7.0, 1992]\n",
    "\n",
    "L"
   ]
  },
  {
   "cell_type": "markdown",
   "id": "1f2e95ad-5af4-480e-9501-a0762b03ad7f",
   "metadata": {},
   "source": [
    "Use negative and regular indexing in list"
   ]
  },
  {
   "cell_type": "code",
   "execution_count": 3,
   "id": "bf4d5330-a468-4a0e-a08c-d0eda5f90411",
   "metadata": {},
   "outputs": [
    {
     "data": {
      "text/plain": [
       "3"
      ]
     },
     "execution_count": 3,
     "metadata": {},
     "output_type": "execute_result"
    }
   ],
   "source": [
    "# checking the lenth of list\n",
    "len(L)"
   ]
  },
  {
   "cell_type": "code",
   "execution_count": 4,
   "id": "1320bb55-fab2-4033-8650-e3b2a128a01f",
   "metadata": {},
   "outputs": [
    {
     "name": "stdout",
     "output_type": "stream",
     "text": [
      "The Bodyguard The Bodyguard\n",
      "7.0 7.0\n",
      "1992 1992\n"
     ]
    }
   ],
   "source": [
    "# print the element on each index\n",
    "\n",
    "# recall same element with regular and negative index\n",
    "print(L[0], L[-3])\n",
    "print(L[1], L[-2])\n",
    "print(L[2], L[-1])"
   ]
  },
  {
   "cell_type": "markdown",
   "id": "d050d01b-14e1-41d3-8322-6c6e9636b481",
   "metadata": {},
   "source": [
    "# list content\n",
    "## nesting\n",
    "We can store also store anothe list and tuples"
   ]
  },
  {
   "cell_type": "code",
   "execution_count": 7,
   "id": "2d259f11-d968-493e-95b4-528e853938ed",
   "metadata": {},
   "outputs": [
    {
     "data": {
      "text/plain": [
       "['The BodyGard', 7.0, 1992, [1, 2], ('A', 1)]"
      ]
     },
     "execution_count": 7,
     "metadata": {},
     "output_type": "execute_result"
    }
   ],
   "source": [
    "# list with a list and tuple\n",
    "\n",
    "[\"The BodyGard\", 7.0, 1992, [1, 2], (\"A\", 1)]"
   ]
  },
  {
   "cell_type": "markdown",
   "id": "b5047c9b-aed1-4fb6-8130-a542a2a18a76",
   "metadata": {},
   "source": [
    "# List operation\n",
    "## sliceing"
   ]
  },
  {
   "cell_type": "code",
   "execution_count": 8,
   "id": "36144400-e447-4ee0-8402-e9540d631044",
   "metadata": {},
   "outputs": [
    {
     "data": {
      "text/plain": [
       "['The BodyGard', 7.0, 1992, 'BG', 1]"
      ]
     },
     "execution_count": 8,
     "metadata": {},
     "output_type": "execute_result"
    }
   ],
   "source": [
    "# simple list\n",
    "\n",
    "L = [\"The BodyGard\", 7.0, 1992, \"BG\", 1]\n",
    "L"
   ]
  },
  {
   "cell_type": "code",
   "execution_count": 9,
   "id": "d6c074b7-e833-4568-a2dd-73e7a05aa5a1",
   "metadata": {},
   "outputs": [
    {
     "data": {
      "text/plain": [
       "['BG', 1]"
      ]
     },
     "execution_count": 9,
     "metadata": {},
     "output_type": "execute_result"
    }
   ],
   "source": [
    "#slicng in list\n",
    "L[3:5]"
   ]
  },
  {
   "cell_type": "code",
   "execution_count": null,
   "id": "70f1b7ce-d48f-49be-acce-9e655a4a2c38",
   "metadata": {},
   "outputs": [],
   "source": []
  }
 ],
 "metadata": {
  "kernelspec": {
   "display_name": "Python 3 (ipykernel)",
   "language": "python",
   "name": "python3"
  },
  "language_info": {
   "codemirror_mode": {
    "name": "ipython",
    "version": 3
   },
   "file_extension": ".py",
   "mimetype": "text/x-python",
   "name": "python",
   "nbconvert_exporter": "python",
   "pygments_lexer": "ipython3",
   "version": "3.12.1"
  }
 },
 "nbformat": 4,
 "nbformat_minor": 5
}
