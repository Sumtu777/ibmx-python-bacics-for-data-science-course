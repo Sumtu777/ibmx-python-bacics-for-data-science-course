{
 "cells": [
  {
   "cell_type": "markdown",
   "id": "d238c622-4b26-4ea5-a596-a4f955bc3da0",
   "metadata": {},
   "source": [
    "# list"
   ]
  },
  {
   "cell_type": "markdown",
   "id": "a84b3997-ef37-4b5f-bd88-9e867becdc8e",
   "metadata": {},
   "source": [
    "## index"
   ]
  },
  {
   "cell_type": "code",
   "execution_count": 1,
   "id": "600247ab-e3fe-4f7b-8e80-d7e7ac495160",
   "metadata": {},
   "outputs": [
    {
     "data": {
      "text/plain": [
       "['The Bodyguard', 7.0, 1992]"
      ]
     },
     "execution_count": 1,
     "metadata": {},
     "output_type": "execute_result"
    }
   ],
   "source": [
    "# create a list\n",
    "\n",
    "L = [\"The Bodyguard\", 7.0, 1992]\n",
    "\n",
    "L"
   ]
  },
  {
   "cell_type": "markdown",
   "id": "1f2e95ad-5af4-480e-9501-a0762b03ad7f",
   "metadata": {},
   "source": [
    "Use negative and regular indexing in list"
   ]
  },
  {
   "cell_type": "code",
   "execution_count": 3,
   "id": "bf4d5330-a468-4a0e-a08c-d0eda5f90411",
   "metadata": {},
   "outputs": [
    {
     "data": {
      "text/plain": [
       "3"
      ]
     },
     "execution_count": 3,
     "metadata": {},
     "output_type": "execute_result"
    }
   ],
   "source": [
    "# checking the lenth of list\n",
    "len(L)"
   ]
  },
  {
   "cell_type": "code",
   "execution_count": 4,
   "id": "1320bb55-fab2-4033-8650-e3b2a128a01f",
   "metadata": {},
   "outputs": [
    {
     "name": "stdout",
     "output_type": "stream",
     "text": [
      "The Bodyguard The Bodyguard\n",
      "7.0 7.0\n",
      "1992 1992\n"
     ]
    }
   ],
   "source": [
    "# print the element on each index\n",
    "\n",
    "# recall same element with regular and negative index\n",
    "print(L[0], L[-3])\n",
    "print(L[1], L[-2])\n",
    "print(L[2], L[-1])"
   ]
  },
  {
   "cell_type": "markdown",
   "id": "d050d01b-14e1-41d3-8322-6c6e9636b481",
   "metadata": {},
   "source": [
    "# list content\n",
    "## nesting\n",
    "We can store also store anothe list and tuples"
   ]
  },
  {
   "cell_type": "code",
   "execution_count": 7,
   "id": "2d259f11-d968-493e-95b4-528e853938ed",
   "metadata": {},
   "outputs": [
    {
     "data": {
      "text/plain": [
       "['The BodyGard', 7.0, 1992, [1, 2], ('A', 1)]"
      ]
     },
     "execution_count": 7,
     "metadata": {},
     "output_type": "execute_result"
    }
   ],
   "source": [
    "# list with a list and tuple\n",
    "\n",
    "[\"The BodyGard\", 7.0, 1992, [1, 2], (\"A\", 1)]"
   ]
  },
  {
   "cell_type": "markdown",
   "id": "b5047c9b-aed1-4fb6-8130-a542a2a18a76",
   "metadata": {},
   "source": [
    "# List operation\n",
    "## sliceing"
   ]
  },
  {
   "cell_type": "code",
   "execution_count": 2,
   "id": "36144400-e447-4ee0-8402-e9540d631044",
   "metadata": {},
   "outputs": [
    {
     "data": {
      "text/plain": [
       "['The BodyGard', 7.0, 1992, 'BG', 1]"
      ]
     },
     "execution_count": 2,
     "metadata": {},
     "output_type": "execute_result"
    }
   ],
   "source": [
    "# simple list\n",
    "\n",
    "L = [\"The BodyGard\", 7.0, 1992, \"BG\", 1]\n",
    "L"
   ]
  },
  {
   "cell_type": "code",
   "execution_count": 3,
   "id": "d6c074b7-e833-4568-a2dd-73e7a05aa5a1",
   "metadata": {},
   "outputs": [
    {
     "data": {
      "text/plain": [
       "['BG', 1]"
      ]
     },
     "execution_count": 3,
     "metadata": {},
     "output_type": "execute_result"
    }
   ],
   "source": [
    "#slicng in list\n",
    "L[3:5]"
   ]
  },
  {
   "cell_type": "markdown",
   "id": "8ca24699-8559-4a6d-97b5-03fde9a3379a",
   "metadata": {},
   "source": [
    "use the method <code>extend</code> to add new elements to the list:"
   ]
  },
  {
   "cell_type": "code",
   "execution_count": 6,
   "id": "69967799-4576-4b34-b1d0-343bcc38ca17",
   "metadata": {},
   "outputs": [
    {
     "data": {
      "text/plain": [
       "['The BodyGard', 7.0, 1992, 'BG', 1, 'pop', 10, 'pop', 10]"
      ]
     },
     "execution_count": 6,
     "metadata": {},
     "output_type": "execute_result"
    }
   ],
   "source": [
    "# use extend to add element to the list\n",
    "\n",
    "L.extend([\"pop\", 10])\n",
    "L"
   ]
  },
  {
   "cell_type": "markdown",
   "id": "69dc6fed-1d98-47c6-ad1d-87c93b520a7a",
   "metadata": {},
   "source": [
    "use the method <code>append</code> insted of <code>extend<code>"
   ]
  },
  {
   "cell_type": "code",
   "execution_count": 8,
   "id": "6e6f145b-5cbc-424c-b39d-0c395800cc9e",
   "metadata": {},
   "outputs": [
    {
     "data": {
      "text/plain": [
       "['The BodyGard', 7.0, 1992, 'BG', 1, 'pop', 10, 'pop', 10, ['rock', 2010]]"
      ]
     },
     "execution_count": 8,
     "metadata": {},
     "output_type": "execute_result"
    }
   ],
   "source": [
    "# Use extend to add one ellement to the list \n",
    "L.append([\"rock\", 2010])\n",
    "L"
   ]
  },
  {
   "cell_type": "code",
   "execution_count": 11,
   "id": "fa434812-29b5-4e52-9f7e-32fcaf9e6880",
   "metadata": {},
   "outputs": [
    {
     "data": {
      "text/plain": [
       "['The BodyGard',\n",
       " 7.0,\n",
       " 1992,\n",
       " 'BG',\n",
       " 1,\n",
       " 'pop',\n",
       " 10,\n",
       " 'pop',\n",
       " 10,\n",
       " ['rock', 2010],\n",
       " ['a', 'b'],\n",
       " ['a', 'b'],\n",
       " ['a', 'b']]"
      ]
     },
     "execution_count": 11,
     "metadata": {},
     "output_type": "execute_result"
    }
   ],
   "source": [
    "# use append\n",
    "L.append([\"a\", \"b\"])\n",
    "L"
   ]
  },
  {
   "cell_type": "markdown",
   "id": "6e50926f-5c79-42a9-90bf-e19b891e72b6",
   "metadata": {},
   "source": [
    "## changing in list"
   ]
  },
  {
   "cell_type": "code",
   "execution_count": 13,
   "id": "3ae858dc-35a6-4fd5-9d11-a33037069835",
   "metadata": {},
   "outputs": [
    {
     "name": "stdout",
     "output_type": "stream",
     "text": [
      "Before change: ['disco', 10, 20]\n",
      "After change: ['pop', 10, 20]\n"
     ]
    }
   ],
   "source": [
    "A = [\"disco\", 10, 20]\n",
    "print(\"Before change:\", A)\n",
    "A[0] = \"pop\"\n",
    "print(\"After change:\", A)"
   ]
  },
  {
   "cell_type": "markdown",
   "id": "52214915-35cf-417c-8859-3581f3da34cf",
   "metadata": {},
   "source": [
    "delete an element of a list using the del command:"
   ]
  },
  {
   "cell_type": "code",
   "execution_count": 15,
   "id": "11c6582b-3339-4574-8dd8-6b41f316a51c",
   "metadata": {},
   "outputs": [
    {
     "name": "stdout",
     "output_type": "stream",
     "text": [
      "[10, 20]\n"
     ]
    }
   ],
   "source": [
    "# use del command to delet element on list\n",
    "del(A[0])\n",
    "print(A)"
   ]
  },
  {
   "cell_type": "code",
   "execution_count": 16,
   "id": "d85d09fc-c3e3-41c3-9d55-e3eeb645c51d",
   "metadata": {},
   "outputs": [
    {
     "data": {
      "text/plain": [
       "[10]"
      ]
     },
     "execution_count": 16,
     "metadata": {},
     "output_type": "execute_result"
    }
   ],
   "source": [
    "del(A[1])\n",
    "A"
   ]
  },
  {
   "cell_type": "markdown",
   "id": "4b8853b9-dea6-4ba4-81e2-d4c0edaf976e",
   "metadata": {},
   "source": [
    "# split"
   ]
  },
  {
   "cell_type": "code",
   "execution_count": 17,
   "id": "2ca89b97-ef88-4010-890c-f7e1325ec0d5",
   "metadata": {},
   "outputs": [
    {
     "data": {
      "text/plain": [
       "['Hard', 'rock']"
      ]
     },
     "execution_count": 17,
     "metadata": {},
     "output_type": "execute_result"
    }
   ],
   "source": [
    "# split a string\n",
    "# by defult by space\n",
    "'Hard rock'.split()"
   ]
  },
  {
   "cell_type": "code",
   "execution_count": 18,
   "id": "9218adc0-5776-4c8a-8deb-135323459dcc",
   "metadata": {},
   "outputs": [
    {
     "data": {
      "text/plain": [
       "['A', ' B', ' C', ' D']"
      ]
     },
     "execution_count": 18,
     "metadata": {},
     "output_type": "execute_result"
    }
   ],
   "source": [
    "# spliting by coma (,)\n",
    "\"A, B, C, D\".split(',')"
   ]
  },
  {
   "cell_type": "markdown",
   "id": "9cb7eaf4-c5ba-418b-aa00-16a2ea924e2b",
   "metadata": {},
   "source": [
    "# copy and clone list"
   ]
  },
  {
   "cell_type": "code",
   "execution_count": 5,
   "id": "c6e7f7ab-afbd-4b5f-bbbd-55ba47bf7014",
   "metadata": {},
   "outputs": [
    {
     "name": "stdout",
     "output_type": "stream",
     "text": [
      "A: ['hard rock', 10, 1.2]\n",
      "B: ['hard rock', 10, 1.2]\n"
     ]
    }
   ],
   "source": [
    "# copy (by reference) the list A\n",
    "\n",
    "A = [\"hard rock\", 10, 1.2]\n",
    "B = A\n",
    "print(\"A:\", A)\n",
    "print(\"B:\", B)"
   ]
  },
  {
   "cell_type": "code",
   "execution_count": 6,
   "id": "511bdabb-edb2-4e5c-91d0-87e561b4bc5f",
   "metadata": {},
   "outputs": [
    {
     "name": "stdout",
     "output_type": "stream",
     "text": [
      "B[0] hard rock\n",
      "B[0] banana\n"
     ]
    }
   ],
   "source": [
    "# Examine copy of reference\n",
    "\n",
    "print(\"B[0]\", B[0])\n",
    "A[0] = \"banana\"\n",
    "print(\"B[0]\", B[0])"
   ]
  },
  {
   "cell_type": "code",
   "execution_count": 7,
   "id": "635fe0f4-6bc5-4197-920d-1996a6f1e40a",
   "metadata": {},
   "outputs": [
    {
     "data": {
      "text/plain": [
       "['banana', 10, 1.2]"
      ]
     },
     "execution_count": 7,
     "metadata": {},
     "output_type": "execute_result"
    }
   ],
   "source": [
    "# cole by value\n",
    "C = A[:]\n",
    "C"
   ]
  },
  {
   "cell_type": "code",
   "execution_count": 8,
   "id": "b49a96d2-9021-48ed-a3a6-b3372dc149b5",
   "metadata": {},
   "outputs": [
    {
     "name": "stdout",
     "output_type": "stream",
     "text": [
      "C[0] banana\n",
      "C[0] banana\n"
     ]
    }
   ],
   "source": [
    "print(\"C[0]\", C[0])\n",
    "A[0] = \"ROCK\"\n",
    "print(\"C[0]\", C[0])"
   ]
  },
  {
   "cell_type": "code",
   "execution_count": null,
   "id": "56030746-1773-4798-a752-a6bd22b94b71",
   "metadata": {},
   "outputs": [],
   "source": []
  }
 ],
 "metadata": {
  "kernelspec": {
   "display_name": "Python 3 (ipykernel)",
   "language": "python",
   "name": "python3"
  },
  "language_info": {
   "codemirror_mode": {
    "name": "ipython",
    "version": 3
   },
   "file_extension": ".py",
   "mimetype": "text/x-python",
   "name": "python",
   "nbconvert_exporter": "python",
   "pygments_lexer": "ipython3",
   "version": "3.12.1"
  }
 },
 "nbformat": 4,
 "nbformat_minor": 5
}
