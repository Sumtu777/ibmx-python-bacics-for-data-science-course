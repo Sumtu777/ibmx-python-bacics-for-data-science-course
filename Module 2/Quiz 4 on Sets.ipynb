{
 "cells": [
  {
   "cell_type": "markdown",
   "id": "dbfb3603-525c-4195-acf5-1ac1a0f68833",
   "metadata": {},
   "source": [
    "## Quiz on Sets"
   ]
  },
  {
   "cell_type": "markdown",
   "id": "fbcfc557-ff4f-4f24-a06c-aac6d4694ef5",
   "metadata": {},
   "source": [
    "Convert the list <code>\\['rap','house','electronic music', 'rap']</code> to a set:\n"
   ]
  },
  {
   "cell_type": "code",
   "execution_count": 5,
   "id": "43425770-8068-4daa-b8a2-e0aa71ce2a32",
   "metadata": {},
   "outputs": [
    {
     "data": {
      "text/plain": [
       "{'electronic music', 'house', 'rap'}"
      ]
     },
     "execution_count": 5,
     "metadata": {},
     "output_type": "execute_result"
    }
   ],
   "source": [
    "# coverting a list to a set\n",
    "\n",
    "set1 = set(['rap','house','electronic music', 'rap'])\n",
    "set1"
   ]
  },
  {
   "cell_type": "markdown",
   "id": "6edcd327-9353-491d-911b-4eb6d67114db",
   "metadata": {},
   "source": [
    "Consider the list <code>A = \\[1, 2, 2, 1]</code> and set <code>B = set(\\[1, 2, 2, 1])</code>, does <code>sum(A) == sum(B)</code>?\n"
   ]
  },
  {
   "cell_type": "code",
   "execution_count": 7,
   "id": "ab24313a-c632-440c-9aa9-f39fc079b727",
   "metadata": {},
   "outputs": [
    {
     "name": "stdout",
     "output_type": "stream",
     "text": [
      "Yes\n"
     ]
    }
   ],
   "source": [
    "# convert list A into set\n",
    "\n",
    "A = [1, 2, 2, 1]\n",
    "A = set(A)\n",
    "\n",
    "B = set([1, 2, 2, 1])\n",
    "\n",
    "# chekking expression\n",
    "result = bool(sum(A) == sum(B))\n",
    "\n",
    "#printing result\n",
    "\n",
    "if result == True:\n",
    "    print(\"Yes\")\n",
    "else:\n",
    "    print(\"No\")"
   ]
  },
  {
   "cell_type": "markdown",
   "id": "cd0cb83b-08c8-47a5-ab24-caad1e089a2d",
   "metadata": {},
   "source": [
    "Create a new set <code>album_set3</code> that is the union of <code>album_set1</code> and <code>album_set2</code>:\n"
   ]
  },
  {
   "cell_type": "code",
   "execution_count": 12,
   "id": "f1ae7f29-4e01-40f1-9ba6-61b30023565b",
   "metadata": {},
   "outputs": [
    {
     "data": {
      "text/plain": [
       "{'AC/DC', 'Back in Black', 'The Dark Side of the Moon', 'Thriller'}"
      ]
     },
     "execution_count": 12,
     "metadata": {},
     "output_type": "execute_result"
    }
   ],
   "source": [
    "# two simple set\n",
    "\n",
    "album_set1 = set([\"Thriller\", 'AC/DC', 'Back in Black'])\n",
    "album_set2 = set([ \"AC/DC\", \"Back in Black\", \"The Dark Side of the Moon\"])\n",
    "\n",
    "# create a net set will contail union of tow set\n",
    "\n",
    "album_set3 = album_set1.union(album_set2)\n",
    "album_set3"
   ]
  },
  {
   "cell_type": "markdown",
   "id": "ed651342-6822-4333-af99-89e723e1486d",
   "metadata": {},
   "source": [
    "Find out if <code>album_set1</code> is a subset of <code>album_set3</code>:\n"
   ]
  },
  {
   "cell_type": "code",
   "execution_count": 15,
   "id": "839df6a8-784e-47a7-ba7a-27d0c1bbebd0",
   "metadata": {},
   "outputs": [
    {
     "data": {
      "text/plain": [
       "True"
      ]
     },
     "execution_count": 15,
     "metadata": {},
     "output_type": "execute_result"
    }
   ],
   "source": [
    "# check for subset\n",
    "\n",
    "set(album_set1).issubset(album_set3)"
   ]
  },
  {
   "cell_type": "code",
   "execution_count": null,
   "id": "16cb38e1-7a4b-4f90-b6dc-63616d4d7511",
   "metadata": {},
   "outputs": [],
   "source": []
  }
 ],
 "metadata": {
  "kernelspec": {
   "display_name": "Python 3 (ipykernel)",
   "language": "python",
   "name": "python3"
  },
  "language_info": {
   "codemirror_mode": {
    "name": "ipython",
    "version": 3
   },
   "file_extension": ".py",
   "mimetype": "text/x-python",
   "name": "python",
   "nbconvert_exporter": "python",
   "pygments_lexer": "ipython3",
   "version": "3.12.1"
  }
 },
 "nbformat": 4,
 "nbformat_minor": 5
}
