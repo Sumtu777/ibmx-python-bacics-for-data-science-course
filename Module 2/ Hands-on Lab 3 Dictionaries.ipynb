{
 "cells": [
  {
   "cell_type": "markdown",
   "metadata": {
    "id": "e-AvxiLbXco6"
   },
   "source": [
    "# Dictionaries in Python"
   ]
  },
  {
   "cell_type": "markdown",
   "metadata": {
    "id": "pU_gm9z-Yf7-"
   },
   "source": [
    "### Create a Dictionary and access the elements\n"
   ]
  },
  {
   "cell_type": "code",
   "execution_count": 21,
   "metadata": {
    "colab": {
     "base_uri": "https://localhost:8080/"
    },
    "id": "Td0-aSYkU-FJ",
    "outputId": "6505a0f9-fcb3-4273-a029-330ffd549fd2"
   },
   "outputs": [
    {
     "data": {
      "text/plain": [
       "{'key1': 1,\n",
       " 'key2': '2',\n",
       " 'key3': [3, 3, 3],\n",
       " 'key4': (4, 4, 4),\n",
       " 'key5': 5,\n",
       " (0, 1): 6}"
      ]
     },
     "execution_count": 21,
     "metadata": {},
     "output_type": "execute_result"
    }
   ],
   "source": [
    "# create a dictionary\n",
    "dict = {\"key1\": 1, \"key2\": \"2\", \"key3\":[3, 3, 3], \"key4\":(4, 4, 4), \"key5\": 5, (0, 1): 6}\n",
    "dict"
   ]
  },
  {
   "cell_type": "code",
   "execution_count": 22,
   "metadata": {
    "colab": {
     "base_uri": "https://localhost:8080/"
    },
    "id": "s0PVKpVxaIo9",
    "outputId": "4110bf0c-ba8e-4a58-cce7-05e5349603db"
   },
   "outputs": [
    {
     "data": {
      "text/plain": [
       "1"
      ]
     },
     "execution_count": 22,
     "metadata": {},
     "output_type": "execute_result"
    }
   ],
   "source": [
    "# acess the value by key\n",
    "\n",
    "dict[\"key1\"]"
   ]
  },
  {
   "cell_type": "code",
   "execution_count": 23,
   "metadata": {
    "colab": {
     "base_uri": "https://localhost:8080/"
    },
    "id": "48mDaJWyagry",
    "outputId": "9934bfa1-d8c9-4fd6-a7af-0408f887d0de"
   },
   "outputs": [
    {
     "data": {
      "text/plain": [
       "6"
      ]
     },
     "execution_count": 23,
     "metadata": {},
     "output_type": "execute_result"
    }
   ],
   "source": [
    "# access the value by the key\n",
    "\n",
    "dict[(0, 1)]"
   ]
  },
  {
   "cell_type": "code",
   "execution_count": 24,
   "metadata": {
    "colab": {
     "base_uri": "https://localhost:8080/"
    },
    "id": "AmEPjQIubTgh",
    "outputId": "c024f195-f7a0-4e3d-c95f-40ff252de380"
   },
   "outputs": [
    {
     "data": {
      "text/plain": [
       "{'Thiller': '1982',\n",
       " 'Black in Black': '1980',\n",
       " 'The darkside of the Moon': '1973',\n",
       " 'The Bodygard': '1992',\n",
       " 'Bat out of Hell': '1977',\n",
       " 'their Greatest Hits (1971-1975)': '1976',\n",
       " 'Saturday Night Fever': '1977',\n",
       " 'Rumours': '1977'}"
      ]
     },
     "execution_count": 24,
     "metadata": {},
     "output_type": "execute_result"
    }
   ],
   "source": [
    "# Create simple dictionary\n",
    "\n",
    "release_year = {\"Thiller\": \"1982\", \"Black in Black\": \"1980\", \\\n",
    "                \"The darkside of the Moon\": \"1973\", \"The Bodygard\": \"1992\", \\\n",
    "                \"Bat out of Hell\": \"1977\", \"their Greatest Hits (1971-1975)\": \"1976\", \\\n",
    "                \"Saturday Night Fever\": \"1977\", \"Rumours\": \"1977\"}\n",
    "release_year"
   ]
  },
  {
   "cell_type": "markdown",
   "metadata": {
    "id": "ixbGXuEiTGJN"
   },
   "source": [
    "## keys"
   ]
  },
  {
   "cell_type": "code",
   "execution_count": 25,
   "metadata": {
    "colab": {
     "base_uri": "https://localhost:8080/",
     "height": 36
    },
    "id": "jOvjjQn6dJe4",
    "outputId": "96e75f01-7b2d-4dbe-ebb4-f9fac4cdf8f3"
   },
   "outputs": [
    {
     "data": {
      "application/vnd.google.colaboratory.intrinsic+json": {
       "type": "string"
      },
      "text/plain": [
       "'1977'"
      ]
     },
     "execution_count": 25,
     "metadata": {},
     "output_type": "execute_result"
    }
   ],
   "source": [
    "# get value by key\n",
    "\n",
    "release_year[\"Rumours\"]"
   ]
  },
  {
   "cell_type": "code",
   "execution_count": 26,
   "metadata": {
    "colab": {
     "base_uri": "https://localhost:8080/",
     "height": 36
    },
    "id": "J42G943LS3lE",
    "outputId": "5514a5c7-5326-4ab9-f33f-c51fb8744c9e"
   },
   "outputs": [
    {
     "data": {
      "application/vnd.google.colaboratory.intrinsic+json": {
       "type": "string"
      },
      "text/plain": [
       "'1992'"
      ]
     },
     "execution_count": 26,
     "metadata": {},
     "output_type": "execute_result"
    }
   ],
   "source": [
    "# get value bt key\n",
    "\n",
    "release_year[\"The Bodygard\"]"
   ]
  },
  {
   "cell_type": "markdown",
   "metadata": {
    "id": "tyLRhSL9TbHp"
   },
   "source": [
    "Now let us retrieve the keys of the dictionary using the method <code>keys()</code>:\n",
    "ection"
   ]
  },
  {
   "cell_type": "code",
   "execution_count": 27,
   "metadata": {
    "colab": {
     "base_uri": "https://localhost:8080/"
    },
    "id": "kDxDipqjTLTT",
    "outputId": "30d9bac4-5dfa-466d-d596-fcaee5cf2595"
   },
   "outputs": [
    {
     "data": {
      "text/plain": [
       "dict_keys(['Thiller', 'Black in Black', 'The darkside of the Moon', 'The Bodygard', 'Bat out of Hell', 'their Greatest Hits (1971-1975)', 'Saturday Night Fever', 'Rumours'])"
      ]
     },
     "execution_count": 27,
     "metadata": {},
     "output_type": "execute_result"
    }
   ],
   "source": [
    "# use keys() to get keys\n",
    "\n",
    "release_year.keys()"
   ]
  },
  {
   "cell_type": "code",
   "execution_count": 28,
   "metadata": {
    "colab": {
     "base_uri": "https://localhost:8080/"
    },
    "id": "Ah3CYsX2Tp1l",
    "outputId": "34ed805b-6362-41f0-df51-c2cec13db368"
   },
   "outputs": [
    {
     "data": {
      "text/plain": [
       "dict_values(['1982', '1980', '1973', '1992', '1977', '1976', '1977', '1977'])"
      ]
     },
     "execution_count": 28,
     "metadata": {},
     "output_type": "execute_result"
    }
   ],
   "source": [
    "# Get all the valu in dic\n",
    "\n",
    "release_year.values()"
   ]
  },
  {
   "cell_type": "code",
   "execution_count": 29,
   "metadata": {
    "colab": {
     "base_uri": "https://localhost:8080/"
    },
    "id": "E_TMuOlfT5tG",
    "outputId": "c7bd7689-0849-41ca-f8f4-1885402864db"
   },
   "outputs": [
    {
     "data": {
      "text/plain": [
       "{'Thiller': '1982',\n",
       " 'Black in Black': '1980',\n",
       " 'The darkside of the Moon': '1973',\n",
       " 'The Bodygard': '1992',\n",
       " 'Bat out of Hell': '1977',\n",
       " 'their Greatest Hits (1971-1975)': '1976',\n",
       " 'Saturday Night Fever': '1977',\n",
       " 'Rumours': '1977',\n",
       " 'Graduation': '2007'}"
      ]
     },
     "execution_count": 29,
     "metadata": {},
     "output_type": "execute_result"
    }
   ],
   "source": [
    "# Append value with key in dictionary\n",
    "\n",
    "release_year[\"Graduation\"] = \"2007\"\n",
    "release_year"
   ]
  },
  {
   "cell_type": "code",
   "execution_count": 30,
   "metadata": {
    "colab": {
     "base_uri": "https://localhost:8080/"
    },
    "id": "QyYO_faGURq6",
    "outputId": "2316a680-ded1-4fb8-9020-b07ac11e1fb2"
   },
   "outputs": [
    {
     "data": {
      "text/plain": [
       "{'Thiller': '1982',\n",
       " 'Black in Black': '1980',\n",
       " 'The darkside of the Moon': '1973',\n",
       " 'The Bodygard': '1992',\n",
       " 'Bat out of Hell': '1977',\n",
       " 'their Greatest Hits (1971-1975)': '1976',\n",
       " 'Saturday Night Fever': '1977',\n",
       " 'Rumours': '1977'}"
      ]
     },
     "execution_count": 30,
     "metadata": {},
     "output_type": "execute_result"
    }
   ],
   "source": [
    "# delete entries in dictionary\n",
    "\n",
    "del(release_year[\"Graduation\"])\n",
    "release_year"
   ]
  },
  {
   "cell_type": "code",
   "execution_count": 31,
   "metadata": {
    "colab": {
     "base_uri": "https://localhost:8080/"
    },
    "id": "vF-EoGLfUfDs",
    "outputId": "35bd2ab6-93fc-42ae-df41-9e1616b3922d"
   },
   "outputs": [
    {
     "data": {
      "text/plain": [
       "True"
      ]
     },
     "execution_count": 31,
     "metadata": {},
     "output_type": "execute_result"
    }
   ],
   "source": [
    "# verify in dictionary with key\n",
    "\n",
    "\"The Bodygard\" in release_year"
   ]
  },
  {
   "cell_type": "code",
   "execution_count": 32,
   "metadata": {
    "colab": {
     "base_uri": "https://localhost:8080/"
    },
    "id": "CTmv73YDUurM",
    "outputId": "93109aa2-80d4-464f-e55c-9d142e3e1b9e"
   },
   "outputs": [
    {
     "data": {
      "text/plain": [
       "['key1', 'key2', 'key3', 'key4', 'key5', (0, 1)]"
      ]
     },
     "execution_count": 32,
     "metadata": {},
     "output_type": "execute_result"
    }
   ],
   "source": [
    "# listng the keys of a dictionary\n",
    "\n",
    "list(dict.keys())"
   ]
  },
  {
   "cell_type": "code",
   "execution_count": null,
   "metadata": {
    "id": "ThLvPcB3XyZW"
   },
   "outputs": [],
   "source": []
  }
 ],
 "metadata": {
  "colab": {
   "authorship_tag": "ABX9TyM8iapToDsZaHKwDJesRtaU",
   "provenance": []
  },
  "kernelspec": {
   "display_name": "Python 3 (ipykernel)",
   "language": "python",
   "name": "python3"
  },
  "language_info": {
   "codemirror_mode": {
    "name": "ipython",
    "version": 3
   },
   "file_extension": ".py",
   "mimetype": "text/x-python",
   "name": "python",
   "nbconvert_exporter": "python",
   "pygments_lexer": "ipython3",
   "version": "3.12.1"
  }
 },
 "nbformat": 4,
 "nbformat_minor": 4
}
