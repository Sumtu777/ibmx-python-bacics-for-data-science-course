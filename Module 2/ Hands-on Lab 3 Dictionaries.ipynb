{
  "nbformat": 4,
  "nbformat_minor": 0,
  "metadata": {
    "colab": {
      "provenance": [],
      "authorship_tag": "ABX9TyM8iapToDsZaHKwDJesRtaU"
    },
    "kernelspec": {
      "name": "python3",
      "display_name": "Python 3"
    },
    "language_info": {
      "name": "python"
    }
  },
  "cells": [
    {
      "cell_type": "markdown",
      "source": [
        "# Dictionaries in Python"
      ],
      "metadata": {
        "id": "e-AvxiLbXco6"
      }
    },
    {
      "cell_type": "markdown",
      "source": [
        "### Create a Dictionary and access the elements\n"
      ],
      "metadata": {
        "id": "pU_gm9z-Yf7-"
      }
    },
    {
      "cell_type": "code",
      "execution_count": 21,
      "metadata": {
        "colab": {
          "base_uri": "https://localhost:8080/"
        },
        "id": "Td0-aSYkU-FJ",
        "outputId": "6505a0f9-fcb3-4273-a029-330ffd549fd2"
      },
      "outputs": [
        {
          "output_type": "execute_result",
          "data": {
            "text/plain": [
              "{'key1': 1,\n",
              " 'key2': '2',\n",
              " 'key3': [3, 3, 3],\n",
              " 'key4': (4, 4, 4),\n",
              " 'key5': 5,\n",
              " (0, 1): 6}"
            ]
          },
          "metadata": {},
          "execution_count": 21
        }
      ],
      "source": [
        "# create a dictionary\n",
        "dict = {\"key1\": 1, \"key2\": \"2\", \"key3\":[3, 3, 3], \"key4\":(4, 4, 4), \"key5\": 5, (0, 1): 6}\n",
        "dict"
      ]
    },
    {
      "cell_type": "code",
      "source": [
        "# acess the value by key\n",
        "\n",
        "dict[\"key1\"]"
      ],
      "metadata": {
        "colab": {
          "base_uri": "https://localhost:8080/"
        },
        "id": "s0PVKpVxaIo9",
        "outputId": "4110bf0c-ba8e-4a58-cce7-05e5349603db"
      },
      "execution_count": 22,
      "outputs": [
        {
          "output_type": "execute_result",
          "data": {
            "text/plain": [
              "1"
            ]
          },
          "metadata": {},
          "execution_count": 22
        }
      ]
    },
    {
      "cell_type": "code",
      "source": [
        "# access the value by the key\n",
        "\n",
        "dict[(0, 1)]"
      ],
      "metadata": {
        "colab": {
          "base_uri": "https://localhost:8080/"
        },
        "id": "48mDaJWyagry",
        "outputId": "9934bfa1-d8c9-4fd6-a7af-0408f887d0de"
      },
      "execution_count": 23,
      "outputs": [
        {
          "output_type": "execute_result",
          "data": {
            "text/plain": [
              "6"
            ]
          },
          "metadata": {},
          "execution_count": 23
        }
      ]
    },
    {
      "cell_type": "code",
      "source": [
        "# Create simple dictionary\n",
        "\n",
        "release_year = {\"Thiller\": \"1982\", \"Black in Black\": \"1980\", \\\n",
        "                \"The darkside of the Moon\": \"1973\", \"The Bodygard\": \"1992\", \\\n",
        "                \"Bat out of Hell\": \"1977\", \"their Greatest Hits (1971-1975)\": \"1976\", \\\n",
        "                \"Saturday Night Fever\": \"1977\", \"Rumours\": \"1977\"}\n",
        "release_year"
      ],
      "metadata": {
        "colab": {
          "base_uri": "https://localhost:8080/"
        },
        "id": "AmEPjQIubTgh",
        "outputId": "c024f195-f7a0-4e3d-c95f-40ff252de380"
      },
      "execution_count": 24,
      "outputs": [
        {
          "output_type": "execute_result",
          "data": {
            "text/plain": [
              "{'Thiller': '1982',\n",
              " 'Black in Black': '1980',\n",
              " 'The darkside of the Moon': '1973',\n",
              " 'The Bodygard': '1992',\n",
              " 'Bat out of Hell': '1977',\n",
              " 'their Greatest Hits (1971-1975)': '1976',\n",
              " 'Saturday Night Fever': '1977',\n",
              " 'Rumours': '1977'}"
            ]
          },
          "metadata": {},
          "execution_count": 24
        }
      ]
    },
    {
      "cell_type": "markdown",
      "source": [
        "## keys"
      ],
      "metadata": {
        "id": "ixbGXuEiTGJN"
      }
    },
    {
      "cell_type": "code",
      "source": [
        "# get value by key\n",
        "\n",
        "release_year[\"Rumours\"]"
      ],
      "metadata": {
        "colab": {
          "base_uri": "https://localhost:8080/",
          "height": 36
        },
        "id": "jOvjjQn6dJe4",
        "outputId": "96e75f01-7b2d-4dbe-ebb4-f9fac4cdf8f3"
      },
      "execution_count": 25,
      "outputs": [
        {
          "output_type": "execute_result",
          "data": {
            "text/plain": [
              "'1977'"
            ],
            "application/vnd.google.colaboratory.intrinsic+json": {
              "type": "string"
            }
          },
          "metadata": {},
          "execution_count": 25
        }
      ]
    },
    {
      "cell_type": "code",
      "source": [
        "# get value bt key\n",
        "\n",
        "release_year[\"The Bodygard\"]"
      ],
      "metadata": {
        "colab": {
          "base_uri": "https://localhost:8080/",
          "height": 36
        },
        "id": "J42G943LS3lE",
        "outputId": "5514a5c7-5326-4ab9-f33f-c51fb8744c9e"
      },
      "execution_count": 26,
      "outputs": [
        {
          "output_type": "execute_result",
          "data": {
            "text/plain": [
              "'1992'"
            ],
            "application/vnd.google.colaboratory.intrinsic+json": {
              "type": "string"
            }
          },
          "metadata": {},
          "execution_count": 26
        }
      ]
    },
    {
      "cell_type": "markdown",
      "source": [
        "Now let us retrieve the keys of the dictionary using the method <code>keys()</code>:\n",
        "ection"
      ],
      "metadata": {
        "id": "tyLRhSL9TbHp"
      }
    },
    {
      "cell_type": "code",
      "source": [
        "# use keys() to get keys\n",
        "\n",
        "release_year.keys()"
      ],
      "metadata": {
        "colab": {
          "base_uri": "https://localhost:8080/"
        },
        "id": "kDxDipqjTLTT",
        "outputId": "30d9bac4-5dfa-466d-d596-fcaee5cf2595"
      },
      "execution_count": 27,
      "outputs": [
        {
          "output_type": "execute_result",
          "data": {
            "text/plain": [
              "dict_keys(['Thiller', 'Black in Black', 'The darkside of the Moon', 'The Bodygard', 'Bat out of Hell', 'their Greatest Hits (1971-1975)', 'Saturday Night Fever', 'Rumours'])"
            ]
          },
          "metadata": {},
          "execution_count": 27
        }
      ]
    },
    {
      "cell_type": "code",
      "source": [
        "# Get all the valu in dic\n",
        "\n",
        "release_year.values()"
      ],
      "metadata": {
        "colab": {
          "base_uri": "https://localhost:8080/"
        },
        "id": "Ah3CYsX2Tp1l",
        "outputId": "34ed805b-6362-41f0-df51-c2cec13db368"
      },
      "execution_count": 28,
      "outputs": [
        {
          "output_type": "execute_result",
          "data": {
            "text/plain": [
              "dict_values(['1982', '1980', '1973', '1992', '1977', '1976', '1977', '1977'])"
            ]
          },
          "metadata": {},
          "execution_count": 28
        }
      ]
    },
    {
      "cell_type": "code",
      "source": [
        "# Append value with key in dictionary\n",
        "\n",
        "release_year[\"Graduation\"] = \"2007\"\n",
        "release_year"
      ],
      "metadata": {
        "colab": {
          "base_uri": "https://localhost:8080/"
        },
        "id": "E_TMuOlfT5tG",
        "outputId": "c7bd7689-0849-41ca-f8f4-1885402864db"
      },
      "execution_count": 29,
      "outputs": [
        {
          "output_type": "execute_result",
          "data": {
            "text/plain": [
              "{'Thiller': '1982',\n",
              " 'Black in Black': '1980',\n",
              " 'The darkside of the Moon': '1973',\n",
              " 'The Bodygard': '1992',\n",
              " 'Bat out of Hell': '1977',\n",
              " 'their Greatest Hits (1971-1975)': '1976',\n",
              " 'Saturday Night Fever': '1977',\n",
              " 'Rumours': '1977',\n",
              " 'Graduation': '2007'}"
            ]
          },
          "metadata": {},
          "execution_count": 29
        }
      ]
    },
    {
      "cell_type": "code",
      "source": [
        "# delete entries in dictionary\n",
        "\n",
        "del(release_year[\"Graduation\"])\n",
        "release_year"
      ],
      "metadata": {
        "colab": {
          "base_uri": "https://localhost:8080/"
        },
        "id": "QyYO_faGURq6",
        "outputId": "2316a680-ded1-4fb8-9020-b07ac11e1fb2"
      },
      "execution_count": 30,
      "outputs": [
        {
          "output_type": "execute_result",
          "data": {
            "text/plain": [
              "{'Thiller': '1982',\n",
              " 'Black in Black': '1980',\n",
              " 'The darkside of the Moon': '1973',\n",
              " 'The Bodygard': '1992',\n",
              " 'Bat out of Hell': '1977',\n",
              " 'their Greatest Hits (1971-1975)': '1976',\n",
              " 'Saturday Night Fever': '1977',\n",
              " 'Rumours': '1977'}"
            ]
          },
          "metadata": {},
          "execution_count": 30
        }
      ]
    },
    {
      "cell_type": "code",
      "source": [
        "# verify in dictionary with key\n",
        "\n",
        "\"The Bodygard\" in release_year"
      ],
      "metadata": {
        "colab": {
          "base_uri": "https://localhost:8080/"
        },
        "id": "vF-EoGLfUfDs",
        "outputId": "35bd2ab6-93fc-42ae-df41-9e1616b3922d"
      },
      "execution_count": 31,
      "outputs": [
        {
          "output_type": "execute_result",
          "data": {
            "text/plain": [
              "True"
            ]
          },
          "metadata": {},
          "execution_count": 31
        }
      ]
    },
    {
      "cell_type": "code",
      "source": [
        "# listng the keys of a dictionary\n",
        "\n",
        "list(dict.keys())"
      ],
      "metadata": {
        "colab": {
          "base_uri": "https://localhost:8080/"
        },
        "id": "CTmv73YDUurM",
        "outputId": "93109aa2-80d4-464f-e55c-9d142e3e1b9e"
      },
      "execution_count": 32,
      "outputs": [
        {
          "output_type": "execute_result",
          "data": {
            "text/plain": [
              "['key1', 'key2', 'key3', 'key4', 'key5', (0, 1)]"
            ]
          },
          "metadata": {},
          "execution_count": 32
        }
      ]
    },
    {
      "cell_type": "code",
      "source": [],
      "metadata": {
        "colab": {
          "base_uri": "https://localhost:8080/",
          "height": 141
        },
        "id": "no8ZNvu0WExS",
        "outputId": "027b353a-ede0-48aa-a98c-382aced27f2e"
      },
      "execution_count": 33,
      "outputs": [
        {
          "output_type": "error",
          "ename": "NameError",
          "evalue": "name 'git' is not defined",
          "traceback": [
            "\u001b[0;31m---------------------------------------------------------------------------\u001b[0m",
            "\u001b[0;31mNameError\u001b[0m                                 Traceback (most recent call last)",
            "\u001b[0;32m/tmp/ipython-input-33-2768940822.py\u001b[0m in \u001b[0;36m<cell line: 0>\u001b[0;34m()\u001b[0m\n\u001b[0;32m----> 1\u001b[0;31m \u001b[0mgit\u001b[0m\u001b[0;34m\u001b[0m\u001b[0;34m\u001b[0m\u001b[0m\n\u001b[0m",
            "\u001b[0;31mNameError\u001b[0m: name 'git' is not defined"
          ]
        }
      ]
    },
    {
      "cell_type": "code",
      "source": [],
      "metadata": {
        "id": "ThLvPcB3XyZW"
      },
      "execution_count": null,
      "outputs": []
    }
  ]
}